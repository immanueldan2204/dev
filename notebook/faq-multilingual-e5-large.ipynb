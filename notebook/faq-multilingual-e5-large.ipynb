{
 "cells": [
  {
   "cell_type": "markdown",
   "metadata": {},
   "source": [
    "# **Framework, Library, and API Key**"
   ]
  },
  {
   "cell_type": "code",
   "execution_count": 1,
   "metadata": {},
   "outputs": [
    {
     "name": "stderr",
     "output_type": "stream",
     "text": [
      "/workspaces/dev/venv/lib/python3.12/site-packages/tqdm/auto.py:21: TqdmWarning: IProgress not found. Please update jupyter and ipywidgets. See https://ipywidgets.readthedocs.io/en/stable/user_install.html\n",
      "  from .autonotebook import tqdm as notebook_tqdm\n"
     ]
    }
   ],
   "source": [
    "import pandas as pd\n",
    "import json\n",
    "import time\n",
    "import resource \n",
    "\n",
    "from langchain_community.embeddings.fastembed import FastEmbedEmbeddings\n",
    "from langchain_qdrant import Qdrant\n",
    "\n",
    "import qdrant_client\n",
    "from qdrant_client import QdrantClient\n",
    "from qdrant_client.models import PointStruct, VectorParams, Distance\n"
   ]
  },
  {
   "cell_type": "markdown",
   "metadata": {},
   "source": [
    "# **Dataset**"
   ]
  },
  {
   "cell_type": "code",
   "execution_count": 2,
   "metadata": {},
   "outputs": [
    {
     "data": {
      "text/plain": [
       "{'question': 'Di mana ada lokasi Rumah Sakit Siloam?',\n",
       " 'answer': 'Ada 40 Rumah Sakit modern yang terdiri dari 13 Rumah Sakit di Jabodetabek dan 27 rumah sakit yang tersebar di Jawa, Sumatera, Kalimantan, Sulawesi, serta Bali dan Nusa Tenggara.',\n",
       " 'category': 'FAQ Website'}"
      ]
     },
     "execution_count": 2,
     "metadata": {},
     "output_type": "execute_result"
    }
   ],
   "source": [
    "# Load FAQ json.\n",
    "with open(\"../data/full_faq.json\", \"r\", encoding=\"utf-8\") as file:\n",
    "    faq_data = json.load(file)\n",
    "\n",
    "faq_data[0]\n"
   ]
  },
  {
   "cell_type": "markdown",
   "metadata": {},
   "source": [
    "# **Embedding Model**"
   ]
  },
  {
   "cell_type": "code",
   "execution_count": 3,
   "metadata": {},
   "outputs": [
    {
     "data": {
      "text/html": [
       "<div>\n",
       "<style scoped>\n",
       "    .dataframe tbody tr th:only-of-type {\n",
       "        vertical-align: middle;\n",
       "    }\n",
       "\n",
       "    .dataframe tbody tr th {\n",
       "        vertical-align: top;\n",
       "    }\n",
       "\n",
       "    .dataframe thead th {\n",
       "        text-align: right;\n",
       "    }\n",
       "</style>\n",
       "<table border=\"1\" class=\"dataframe\">\n",
       "  <thead>\n",
       "    <tr style=\"text-align: right;\">\n",
       "      <th></th>\n",
       "      <th>model</th>\n",
       "      <th>description</th>\n",
       "      <th>size_in_GB</th>\n",
       "      <th>dim</th>\n",
       "    </tr>\n",
       "  </thead>\n",
       "  <tbody>\n",
       "    <tr>\n",
       "      <th>9</th>\n",
       "      <td>sentence-transformers/paraphrase-multilingual-MiniLM-L12-v2</td>\n",
       "      <td>Text embeddings, Unimodal (text), Multilingual (~50 languages), 512 input tokens truncation, Prefixes for queries/documents: not necessary, 2019 year.</td>\n",
       "      <td>0.22</td>\n",
       "      <td>384</td>\n",
       "    </tr>\n",
       "    <tr>\n",
       "      <th>24</th>\n",
       "      <td>sentence-transformers/paraphrase-multilingual-mpnet-base-v2</td>\n",
       "      <td>Text embeddings, Unimodal (text), Multilingual (~50 languages), 384 input tokens truncation, Prefixes for queries/documents: not necessary, 2021 year.</td>\n",
       "      <td>1.00</td>\n",
       "      <td>768</td>\n",
       "    </tr>\n",
       "    <tr>\n",
       "      <th>28</th>\n",
       "      <td>intfloat/multilingual-e5-large</td>\n",
       "      <td>Text embeddings, Unimodal (text), Multilingual (~100 languages), 512 input tokens truncation, Prefixes for queries/documents: necessary, 2024 year.</td>\n",
       "      <td>2.24</td>\n",
       "      <td>1024</td>\n",
       "    </tr>\n",
       "  </tbody>\n",
       "</table>\n",
       "</div>"
      ],
      "text/plain": [
       "                                                          model  \\\n",
       "9   sentence-transformers/paraphrase-multilingual-MiniLM-L12-v2   \n",
       "24  sentence-transformers/paraphrase-multilingual-mpnet-base-v2   \n",
       "28                               intfloat/multilingual-e5-large   \n",
       "\n",
       "                                                                                                                                               description  \\\n",
       "9   Text embeddings, Unimodal (text), Multilingual (~50 languages), 512 input tokens truncation, Prefixes for queries/documents: not necessary, 2019 year.   \n",
       "24  Text embeddings, Unimodal (text), Multilingual (~50 languages), 384 input tokens truncation, Prefixes for queries/documents: not necessary, 2021 year.   \n",
       "28     Text embeddings, Unimodal (text), Multilingual (~100 languages), 512 input tokens truncation, Prefixes for queries/documents: necessary, 2024 year.   \n",
       "\n",
       "    size_in_GB   dim  \n",
       "9         0.22   384  \n",
       "24        1.00   768  \n",
       "28        2.24  1024  "
      ]
     },
     "metadata": {},
     "output_type": "display_data"
    }
   ],
   "source": [
    "from fastembed import TextEmbedding\n",
    "\n",
    "# Create the DataFrame and clean it up\n",
    "supported_models = (\n",
    "    pd.DataFrame(TextEmbedding.list_supported_models())\n",
    "    .sort_values(\"size_in_GB\")\n",
    "    .drop(columns=[\"sources\", \"model_file\", \"additional_files\", \"license\", \"tasks\"])\n",
    "    .reset_index(drop=True)\n",
    ")\n",
    "\n",
    "# Filter model.\n",
    "filtered_models = supported_models[\n",
    "    supported_models['description'].str.contains(\"multilingual\", case=False, na=False) &\n",
    "    ~supported_models['model'].str.contains(\"jinaai\", case=False, na=False)\n",
    "]\n",
    "\n",
    "# Display the filtered DataFrame with full column content\n",
    "with pd.option_context('display.max_colwidth', None):\n",
    "    display(filtered_models)\n"
   ]
  },
  {
   "cell_type": "markdown",
   "metadata": {},
   "source": [
    "# **intfloat/multilingual-e5-large**"
   ]
  },
  {
   "cell_type": "code",
   "execution_count": 3,
   "metadata": {},
   "outputs": [
    {
     "name": "stderr",
     "output_type": "stream",
     "text": [
      "/workspaces/dev/venv/lib/python3.12/site-packages/langchain_community/embeddings/fastembed.py:109: UserWarning: The model intfloat/multilingual-e5-large now uses mean pooling instead of CLS embedding. In order to preserve the previous behaviour, consider either pinning fastembed version to 0.5.1 or using `add_custom_model` functionality.\n",
      "  values[\"model\"] = fastembed.TextEmbedding(\n"
     ]
    }
   ],
   "source": [
    "# Initiate FastEmbedEmbeddings\n",
    "embeddings = FastEmbedEmbeddings(\n",
    "    cache_dir=\"../embedding_cache\",\n",
    "    model_name=\"intfloat/multilingual-e5-large\"\n",
    ")\n",
    "\n",
    "url = \"http://localhost:6333\"\n",
    "# collection_name = \"faq-question\"\n",
    "collection_name = \"faq-question-answer\"\n",
    "# collection_name = \"faq-query-passage\"\n",
    "distance = Distance.COSINE\n",
    "dimension = 1024\n"
   ]
  },
  {
   "cell_type": "code",
   "execution_count": 6,
   "metadata": {},
   "outputs": [
    {
     "name": "stdout",
     "output_type": "stream",
     "text": [
      "collections=[CollectionDescription(name='faq-question')]\n"
     ]
    }
   ],
   "source": [
    "# Initiate client.\n",
    "client = QdrantClient(\"localhost\", port=6333)\n",
    "\n",
    "# Show collections.\n",
    "collections = client.get_collections()\n",
    "print(collections)\n"
   ]
  },
  {
   "cell_type": "code",
   "execution_count": null,
   "metadata": {},
   "outputs": [],
   "source": [
    "# # Show collection details.\n",
    "# collection_info = client.get_collection(collection_name=\"test_faq_openai\")\n",
    "# print(collection_info)\n"
   ]
  },
  {
   "cell_type": "code",
   "execution_count": null,
   "metadata": {},
   "outputs": [
    {
     "data": {
      "text/plain": [
       "True"
      ]
     },
     "execution_count": 5,
     "metadata": {},
     "output_type": "execute_result"
    }
   ],
   "source": [
    "# # Delete collection.\n",
    "# client.delete_collection(collection_name=\"faq-question\")\n",
    "# client.delete_collection(collection_name=\"faq-question-answer\")\n",
    "# client.delete_collection(collection_name=\"faq-query-passage\")\n"
   ]
  },
  {
   "cell_type": "code",
   "execution_count": 7,
   "metadata": {},
   "outputs": [],
   "source": [
    "def moveEmbedding(faq_data, batch_size=100):\n",
    "    \"\"\"\n",
    "    Load FAQ data from a JSON-like list of dictionaries and upsert embeddings into Qdrant,\n",
    "    processing the data in batches.\n",
    "    \n",
    "    Each FAQ should have the following keys: 'question', 'answer', and 'category'.\n",
    "    The text for embedding is constructed by concatenating these fields with a newline.\n",
    "    \"\"\"\n",
    "    client = qdrant_client.QdrantClient(url=url)\n",
    "    \n",
    "    # Create collection if it doesn't exist.\n",
    "    if not client.collection_exists(collection_name=collection_name):\n",
    "        client.create_collection(\n",
    "            collection_name=collection_name,\n",
    "            vectors_config=VectorParams(size=dimension, distance=distance),\n",
    "        )\n",
    "    \n",
    "    total_batches = (len(faq_data) - 1) // batch_size + 1\n",
    "    overall_start_time = time.time()\n",
    "    \n",
    "    for batch_num in range(total_batches):\n",
    "        batch_start_time = time.time()\n",
    "        start = batch_num * batch_size\n",
    "        end = start + batch_size\n",
    "        batch_faq = faq_data[start:end]\n",
    "        \n",
    "        texts = []\n",
    "        ids = []\n",
    "        payloads = []\n",
    "        \n",
    "        for i, faq in enumerate(batch_faq, start=start):\n",
    "            # Concatenate question and answer with a newline delimiter.\n",
    "            # text = faq['question']\n",
    "            text = faq['question'] + \"\\n\" + faq['answer']\n",
    "            # text = f\"query: {faq['question']}\\npassage: {faq['answer']}\"\n",
    "            texts.append(text)\n",
    "            ids.append(i)\n",
    "            payloads.append({\n",
    "                \"page_content\": text,\n",
    "                \"metadata\": {\n",
    "                    \"question\": faq['question'],\n",
    "                    \"answer\": faq['answer'],\n",
    "                    \"category\": faq['category']\n",
    "                }\n",
    "            })\n",
    "        \n",
    "        # Batch embed the texts.\n",
    "        batch_embeddings = embeddings.embed_documents(texts)\n",
    "        \n",
    "        points = []\n",
    "        for j, emb in enumerate(batch_embeddings):\n",
    "            points.append(\n",
    "                PointStruct(\n",
    "                    id=ids[j],\n",
    "                    vector=emb,\n",
    "                    payload=payloads[j]\n",
    "                )\n",
    "            )\n",
    "        \n",
    "        # Upsert the current batch of points into Qdrant.\n",
    "        client.upsert(\n",
    "            collection_name=collection_name,\n",
    "            points=points\n",
    "        )\n",
    "        \n",
    "        batch_end_time = time.time()\n",
    "        batch_elapsed = batch_end_time - batch_start_time\n",
    "        print(f\"Processed batch {batch_num+1}/{total_batches} in {batch_elapsed:.2f} seconds\")\n",
    "    \n",
    "    overall_end_time = time.time()\n",
    "    total_elapsed = overall_end_time - overall_start_time\n",
    "\n",
    "    # Calculate peak memory usage (in MB).\n",
    "    peak_memory = resource.getrusage(resource.RUSAGE_SELF).ru_maxrss / 1024\n",
    "    print(f\"Added: {len(faq_data)} FAQs in {total_elapsed:.2f} seconds, Peak Memory: {peak_memory:.2f} MB\")\n"
   ]
  },
  {
   "cell_type": "markdown",
   "metadata": {},
   "source": [
    "# **Question Only**"
   ]
  },
  {
   "cell_type": "code",
   "execution_count": 9,
   "metadata": {},
   "outputs": [
    {
     "name": "stdout",
     "output_type": "stream",
     "text": [
      "Processed batch 1/4 in 17.15 seconds\n",
      "Processed batch 2/4 in 9.09 seconds\n",
      "Processed batch 3/4 in 7.92 seconds\n",
      "Processed batch 4/4 in 3.73 seconds\n",
      "Added: 349 FAQs in 37.89 seconds, Peak Memory: 2049.07 MB\n"
     ]
    }
   ],
   "source": [
    "moveEmbedding(faq_data)"
   ]
  },
  {
   "cell_type": "code",
   "execution_count": 10,
   "metadata": {},
   "outputs": [
    {
     "name": "stderr",
     "output_type": "stream",
     "text": [
      "/tmp/ipykernel_47643/2148830083.py:4: LangChainDeprecationWarning: The class `Qdrant` was deprecated in LangChain 0.1.2 and will be removed in 0.5.0. Use :class:`~QdrantVectorStore` instead.\n",
      "  qdrant = Qdrant(\n"
     ]
    }
   ],
   "source": [
    "client = QdrantClient(\n",
    "    url=url,\n",
    ")\n",
    "qdrant = Qdrant(\n",
    "    client,\n",
    "    embeddings=embeddings,\n",
    "    collection_name=collection_name,\n",
    "    distance_strategy=distance,\n",
    ")\n"
   ]
  },
  {
   "cell_type": "code",
   "execution_count": 11,
   "metadata": {},
   "outputs": [
    {
     "name": "stdout",
     "output_type": "stream",
     "text": [
      "0.9801 | Di mana ada lokasi Rumah Sakit Siloam?\n",
      "0.9303 | Alamat Siloam Hospitals ASRI dimana?\n",
      "0.9284 | Rumah sakit Siloam di Jakarta apa saja?\n",
      "0.9253 | Rumah sakit Siloam di Jabodetabek apa saja?\n",
      "0.9250 | Alamat Siloam Hospitals Medan dimana?\n",
      "0.9240 | Alamat Siloam Hospitals Surabaya dimana?\n",
      "0.9219 | Alamat Siloam Hospitals Jambi dimana?\n",
      "0.9205 | Alamat Siloam Hospitals Mampang dimana?\n",
      "0.9205 | Alamat Siloam Hospitals Bogor dimana?\n",
      "0.9201 | Alamat Siloam Hospitals Kebon Jeruk dimana?\n",
      "0.9199 | Rumah sakit Siloam di pulau Jawa apa saja?\n",
      "0.9188 | Alamat Siloam Hospitals Makassar dimana?\n",
      "0.9181 | Alamat Siloam Hospitals Sentosa dimana?\n",
      "0.9170 | Alamat Siloam Hospitals Semarang dimana?\n",
      "0.9157 | Rumah sakit Siloam di pulau Sumatera apa saja?\n",
      "0.9155 | Alamat Siloam Hospitals Lippo Village dimana?\n",
      "0.9141 | Rumah sakit Siloam di pulau Kalimantan apa saja?\n",
      "0.9140 | Rumah sakit Siloam di Tangerang apa saja?\n",
      "0.9136 | Alamat Siloam Hospitals Banjarmasin dimana?\n",
      "0.9132 | Alamat Siloam Hospitals Yogyakarta dimana?\n"
     ]
    }
   ],
   "source": [
    "doc = qdrant.similarity_search_with_score('Di mana ada lokasi Rumah Sakit Siloam', score_threshold=0.1, k=20)\n",
    "for document, score in doc:\n",
    "    print(f\"{score:.4f} | {document.metadata['question']}\")\n"
   ]
  },
  {
   "cell_type": "code",
   "execution_count": 12,
   "metadata": {},
   "outputs": [
    {
     "name": "stdout",
     "output_type": "stream",
     "text": [
      "{'query': 'Di mana ada lokasi Rumah Sakit Siloam?', 'expected': 'Di mana ada lokasi Rumah Sakit Siloam?'}\n"
     ]
    }
   ],
   "source": [
    "test_list = [{'query': x['question'], 'expected': x['question']} for x in faq_data]\n",
    "print(test_list[0])"
   ]
  },
  {
   "cell_type": "code",
   "execution_count": 13,
   "metadata": {},
   "outputs": [],
   "source": [
    "test_list = test_list + [\n",
    "    {\n",
    "        \"query\": \"siloam ada dimana saja\",\n",
    "        \"expected\": \"Di mana ada lokasi Rumah Sakit Siloam?\"\n",
    "    },\n",
    "    {\n",
    "        \"query\": \"jam buka mcu\",\n",
    "        \"expected\": \"Jam buka MCU / Medical Check Up?\"\n",
    "    },\n",
    "    {\n",
    "        \"query\": \"layanan kesehatan di rumah\",\n",
    "        \"expected\": \"Apa itu Siloam at Home? Apakah Siloam memberikan layanan kesehatan di rumah atau Homecare?\"\n",
    "    },\n",
    "    {\n",
    "        \"query\": \"cek obat beli di siloam dari aplikasi\",\n",
    "        \"expected\": \"Halo saya mau cek obat yang saya beli dari Siloam, bisakah dari aplikasi MySiloam?\"\n",
    "    },\n",
    "    {\n",
    "        \"query\": \"asuransi kerjasa sama dengan siloam\",\n",
    "        \"expected\": \"Asuransi apa saja yang bekerja sama dengan Siloam?\"\n",
    "    },\n",
    "    {\n",
    "        \"query\": \"test\",\n",
    "        \"expected\": \"test\"\n",
    "    },\n",
    "    \n",
    "]\n"
   ]
  },
  {
   "cell_type": "code",
   "execution_count": 14,
   "metadata": {},
   "outputs": [],
   "source": [
    "def testing(qdrant, q, expected):\n",
    "    doc = qdrant.similarity_search_with_score(q, score_threshold=0.1, k=20)\n",
    "    i = 0\n",
    "    for d in doc:\n",
    "        if(d[0].metadata[\"question\"] == expected):\n",
    "            return [ True, d]\n",
    "        i += 1\n",
    "    if len(doc) == 0:\n",
    "        return [False, \"No result\"]\n",
    "    return [False, doc[0]]\n"
   ]
  },
  {
   "cell_type": "code",
   "execution_count": 15,
   "metadata": {},
   "outputs": [
    {
     "data": {
      "text/html": [
       "<div>\n",
       "<style scoped>\n",
       "    .dataframe tbody tr th:only-of-type {\n",
       "        vertical-align: middle;\n",
       "    }\n",
       "\n",
       "    .dataframe tbody tr th {\n",
       "        vertical-align: top;\n",
       "    }\n",
       "\n",
       "    .dataframe thead th {\n",
       "        text-align: right;\n",
       "    }\n",
       "</style>\n",
       "<table border=\"1\" class=\"dataframe\">\n",
       "  <thead>\n",
       "    <tr style=\"text-align: right;\">\n",
       "      <th></th>\n",
       "      <th>query</th>\n",
       "      <th>result</th>\n",
       "      <th>score</th>\n",
       "    </tr>\n",
       "  </thead>\n",
       "  <tbody>\n",
       "    <tr>\n",
       "      <th>0</th>\n",
       "      <td>test</td>\n",
       "      <td>Bagaimana jika ada rujukan untuk pemeriksaan L...</td>\n",
       "      <td>0.784677</td>\n",
       "    </tr>\n",
       "  </tbody>\n",
       "</table>\n",
       "</div>"
      ],
      "text/plain": [
       "  query                                             result     score\n",
       "0  test  Bagaimana jika ada rujukan untuk pemeriksaan L...  0.784677"
      ]
     },
     "metadata": {},
     "output_type": "display_data"
    }
   ],
   "source": [
    "# With question only.\n",
    "results = []\n",
    "for t in test_list:\n",
    "    [status, data] = testing(qdrant, t[\"query\"], t[\"expected\"])\n",
    "    if(status == False):\n",
    "        _data = {\n",
    "            \"query\": t[\"query\"],\n",
    "            \"result\": data[0].metadata['question'] if data != \"No result\" else \"No result\",\n",
    "            \"score\": data[1] if data != \"No result\" else \"No result\"\n",
    "        }\n",
    "        results.append(_data)\n",
    "with pd.option_context('display.max_rows', None, 'display.max_columns', None):\n",
    "    df = pd.DataFrame(data=results)\n",
    "    display(df)\n",
    "    "
   ]
  },
  {
   "cell_type": "markdown",
   "metadata": {},
   "source": [
    "# **Question + Answer** "
   ]
  },
  {
   "cell_type": "code",
   "execution_count": 8,
   "metadata": {},
   "outputs": [
    {
     "name": "stdout",
     "output_type": "stream",
     "text": [
      "Processed batch 1/4 in 175.97 seconds\n",
      "Processed batch 2/4 in 67.59 seconds\n",
      "Processed batch 3/4 in 24.06 seconds\n",
      "Processed batch 4/4 in 10.04 seconds\n",
      "Added: 349 FAQs in 277.66 seconds, Peak Memory: 6229.53 MB\n"
     ]
    }
   ],
   "source": [
    "moveEmbedding(faq_data)"
   ]
  },
  {
   "cell_type": "code",
   "execution_count": 9,
   "metadata": {},
   "outputs": [
    {
     "name": "stderr",
     "output_type": "stream",
     "text": [
      "/tmp/ipykernel_51453/2148830083.py:4: LangChainDeprecationWarning: The class `Qdrant` was deprecated in LangChain 0.1.2 and will be removed in 0.5.0. Use :class:`~QdrantVectorStore` instead.\n",
      "  qdrant = Qdrant(\n"
     ]
    }
   ],
   "source": [
    "client = QdrantClient(\n",
    "    url=url,\n",
    ")\n",
    "qdrant = Qdrant(\n",
    "    client,\n",
    "    embeddings=embeddings,\n",
    "    collection_name=collection_name,\n",
    "    distance_strategy=distance,\n",
    ")\n"
   ]
  },
  {
   "cell_type": "code",
   "execution_count": 10,
   "metadata": {},
   "outputs": [
    {
     "name": "stdout",
     "output_type": "stream",
     "text": [
      "0.8789 | Alamat Siloam Hospitals Yogyakarta dimana?\n",
      "0.8783 | Alamat Siloam Hospitals TB Simatupang dimana?\n",
      "0.8774 | Alamat Siloam Hospitals Bogor dimana?\n",
      "0.8756 | Di mana ada lokasi Rumah Sakit Siloam?\n",
      "0.8754 | Alamat Siloam Hospitals Jambi dimana?\n",
      "0.8750 | Alamat Siloam Hospitals Kebon Jeruk dimana?\n",
      "0.8748 | Alamat Siloam Hospitals Medan dimana?\n",
      "0.8746 | Alamat Siloam Hospitals Jember dimana?\n",
      "0.8735 | Alamat Siloam Hospitals ASRI dimana?\n",
      "0.8734 | Alamat Siloam Hospitals Semarang dimana?\n",
      "0.8732 | Alamat Siloam Hospitals Balikpapan dimana?\n",
      "0.8728 | Alamat Siloam Hospitals Mampang dimana?\n",
      "0.8717 | Alamat Siloam Hospitals Surabaya dimana?\n",
      "0.8715 | Alamat Siloam Hospitals Denpasar dimana?\n",
      "0.8713 | Alamat Siloam Hospitals Bekasi Timur dimana?\n",
      "0.8711 | Alamat Siloam Hospitals Sentosa dimana?\n",
      "0.8706 | Alamat Siloam Hospitals Mataram dimana?\n",
      "0.8700 | Alamat Siloam Hospitals Kelapa Dua dimana?\n",
      "0.8696 | Alamat Siloam Hospitals Putera Bahagia dimana?\n",
      "0.8689 | Alamat Siloam Hospitals Labuan Bajo dimana?\n"
     ]
    }
   ],
   "source": [
    "doc = qdrant.similarity_search_with_score('Di mana ada lokasi Rumah Sakit Siloam', score_threshold=0.1, k=20)\n",
    "for document, score in doc:\n",
    "    print(f\"{score:.4f} | {document.metadata['question']}\")\n"
   ]
  },
  {
   "cell_type": "code",
   "execution_count": 15,
   "metadata": {},
   "outputs": [
    {
     "data": {
      "text/html": [
       "<div>\n",
       "<style scoped>\n",
       "    .dataframe tbody tr th:only-of-type {\n",
       "        vertical-align: middle;\n",
       "    }\n",
       "\n",
       "    .dataframe tbody tr th {\n",
       "        vertical-align: top;\n",
       "    }\n",
       "\n",
       "    .dataframe thead th {\n",
       "        text-align: right;\n",
       "    }\n",
       "</style>\n",
       "<table border=\"1\" class=\"dataframe\">\n",
       "  <thead>\n",
       "    <tr style=\"text-align: right;\">\n",
       "      <th></th>\n",
       "      <th>query</th>\n",
       "      <th>result</th>\n",
       "      <th>score</th>\n",
       "    </tr>\n",
       "  </thead>\n",
       "  <tbody>\n",
       "    <tr>\n",
       "      <th>0</th>\n",
       "      <td>siloam ada dimana saja</td>\n",
       "      <td>Apakah saya bisa melakukan pemesanan homeservi...</td>\n",
       "      <td>0.835366</td>\n",
       "    </tr>\n",
       "    <tr>\n",
       "      <th>1</th>\n",
       "      <td>test</td>\n",
       "      <td>Produk yang saya cari tidak ada di website</td>\n",
       "      <td>0.755827</td>\n",
       "    </tr>\n",
       "  </tbody>\n",
       "</table>\n",
       "</div>"
      ],
      "text/plain": [
       "                    query                                             result  \\\n",
       "0  siloam ada dimana saja  Apakah saya bisa melakukan pemesanan homeservi...   \n",
       "1                    test         Produk yang saya cari tidak ada di website   \n",
       "\n",
       "      score  \n",
       "0  0.835366  \n",
       "1  0.755827  "
      ]
     },
     "metadata": {},
     "output_type": "display_data"
    }
   ],
   "source": [
    "# With question + answer + category.\n",
    "results = []\n",
    "for t in test_list:\n",
    "    [status, data] = testing(qdrant, t[\"query\"], t[\"expected\"])\n",
    "    if(status == False):\n",
    "        _data = {\n",
    "            \"query\": t[\"query\"],\n",
    "            \"result\": data[0].metadata['question'] if data != \"No result\" else \"No result\",\n",
    "            \"score\": data[1] if data != \"No result\" else \"No result\"\n",
    "        }\n",
    "        results.append(_data)\n",
    "with pd.option_context('display.max_rows', None, 'display.max_columns', None):\n",
    "    df = pd.DataFrame(data=results)\n",
    "    display(df)\n",
    "    "
   ]
  },
  {
   "cell_type": "markdown",
   "metadata": {},
   "source": [
    "# **query: Question + passage: Answer** "
   ]
  },
  {
   "cell_type": "code",
   "execution_count": 12,
   "metadata": {},
   "outputs": [
    {
     "name": "stdout",
     "output_type": "stream",
     "text": [
      "Processed batch 1/4 in 51.67 seconds\n",
      "Processed batch 2/4 in 19.55 seconds\n",
      "Processed batch 3/4 in 7.29 seconds\n",
      "Processed batch 4/4 in 3.03 seconds\n",
      "Added: 349 FAQs in 81.55 seconds, Peak Memory: 4455.13 MB\n"
     ]
    }
   ],
   "source": [
    "moveEmbedding(faq_data)"
   ]
  },
  {
   "cell_type": "code",
   "execution_count": 13,
   "metadata": {},
   "outputs": [
    {
     "name": "stderr",
     "output_type": "stream",
     "text": [
      "/tmp/ipykernel_45598/2148830083.py:4: LangChainDeprecationWarning: The class `Qdrant` was deprecated in LangChain 0.1.2 and will be removed in 0.5.0. Use :class:`~QdrantVectorStore` instead.\n",
      "  qdrant = Qdrant(\n"
     ]
    }
   ],
   "source": [
    "client = QdrantClient(\n",
    "    url=url,\n",
    ")\n",
    "qdrant = Qdrant(\n",
    "    client,\n",
    "    embeddings=embeddings,\n",
    "    collection_name=collection_name,\n",
    "    distance_strategy=distance,\n",
    ")\n"
   ]
  },
  {
   "cell_type": "code",
   "execution_count": 14,
   "metadata": {},
   "outputs": [
    {
     "name": "stdout",
     "output_type": "stream",
     "text": [
      "0.8291 | Alamat Siloam Hospitals Putera Bahagia dimana?\n",
      "0.7610 | Di mana ada lokasi Rumah Sakit Siloam?\n",
      "0.7573 | Alamat Siloam Hospitals Labuan Bajo dimana?\n",
      "0.7409 | Alamat Siloam Hospitals Makassar dimana?\n",
      "0.7383 | Alamat Siloam Hospitals Buton dimana?\n",
      "0.7254 | Alamat Siloam Hospitals Banjarmasin dimana?\n",
      "0.7123 | Alamat Siloam Hospitals Palangkaraya dimana?\n",
      "0.7117 | Rumah sakit Siloam di Tangerang apa saja?\n",
      "0.7105 | Alamat Siloam Hospitals Sentosa dimana?\n",
      "0.7054 | Alamat Siloam Hospitals Purwakarta dimana?\n",
      "0.7005 | Alamat Siloam Hospitals Lubuk Linggau dimana?\n",
      "0.6994 | Alamat MRCCC Siloam Hospitals Semanggi dimana?\n",
      "0.6979 | Alamat Siloam Hospitals Jember dimana?\n",
      "0.6944 | Apa misi Siloam Hospitals?\n",
      "0.6934 | Apa visi Siloam Hospitals?\n",
      "0.6931 | Alamat Siloam Hospitals Bekasi Sepanjang Jaya dimana?\n",
      "0.6924 | Alamat Siloam Hospitals Semarang dimana?\n",
      "0.6914 | Alamat Siloam Hospitals Surabaya dimana?\n",
      "0.6914 | Alamat Siloam Hospitals Bekasi Timur dimana?\n",
      "0.6911 | Rumah sakit Siloam Hospitals Medan punya nama lain apa?\n"
     ]
    }
   ],
   "source": [
    "doc = qdrant.similarity_search_with_score('Di mana ada lokasi Rumah Sakit Siloam', score_threshold=0.1, k=20)\n",
    "for document, score in doc:\n",
    "    print(f\"{score:.4f} | {document.metadata['question']}\")\n"
   ]
  },
  {
   "cell_type": "code",
   "execution_count": 15,
   "metadata": {},
   "outputs": [
    {
     "data": {
      "text/html": [
       "<div>\n",
       "<style scoped>\n",
       "    .dataframe tbody tr th:only-of-type {\n",
       "        vertical-align: middle;\n",
       "    }\n",
       "\n",
       "    .dataframe tbody tr th {\n",
       "        vertical-align: top;\n",
       "    }\n",
       "\n",
       "    .dataframe thead th {\n",
       "        text-align: right;\n",
       "    }\n",
       "</style>\n",
       "<table border=\"1\" class=\"dataframe\">\n",
       "  <thead>\n",
       "    <tr style=\"text-align: right;\">\n",
       "      <th></th>\n",
       "      <th>query</th>\n",
       "      <th>result</th>\n",
       "      <th>score</th>\n",
       "    </tr>\n",
       "  </thead>\n",
       "  <tbody>\n",
       "    <tr>\n",
       "      <th>0</th>\n",
       "      <td>Fasilitas apa yang dimiliki pusat keunggulan R...</td>\n",
       "      <td>Apa misi Siloam Hospitals?</td>\n",
       "      <td>0.625438</td>\n",
       "    </tr>\n",
       "    <tr>\n",
       "      <th>1</th>\n",
       "      <td>Rumah Sakit Siloam mana saja yang menerima pas...</td>\n",
       "      <td>Data apa yang dibutuhkan saat menggunakan BPJS...</td>\n",
       "      <td>0.650620</td>\n",
       "    </tr>\n",
       "    <tr>\n",
       "      <th>2</th>\n",
       "      <td>siloam ada dimana saja</td>\n",
       "      <td>Apa nama lain Siloam Cempaka Putih?</td>\n",
       "      <td>0.386341</td>\n",
       "    </tr>\n",
       "    <tr>\n",
       "      <th>3</th>\n",
       "      <td>test</td>\n",
       "      <td>Berapa lama hasil dari MCU / Medical Check Up ...</td>\n",
       "      <td>0.421545</td>\n",
       "    </tr>\n",
       "  </tbody>\n",
       "</table>\n",
       "</div>"
      ],
      "text/plain": [
       "                                               query  \\\n",
       "0  Fasilitas apa yang dimiliki pusat keunggulan R...   \n",
       "1  Rumah Sakit Siloam mana saja yang menerima pas...   \n",
       "2                             siloam ada dimana saja   \n",
       "3                                               test   \n",
       "\n",
       "                                              result     score  \n",
       "0                         Apa misi Siloam Hospitals?  0.625438  \n",
       "1  Data apa yang dibutuhkan saat menggunakan BPJS...  0.650620  \n",
       "2                Apa nama lain Siloam Cempaka Putih?  0.386341  \n",
       "3  Berapa lama hasil dari MCU / Medical Check Up ...  0.421545  "
      ]
     },
     "metadata": {},
     "output_type": "display_data"
    }
   ],
   "source": [
    "# With question + answer + category.\n",
    "results = []\n",
    "for t in test_list:\n",
    "    [status, data] = testing(qdrant, t[\"query\"], t[\"expected\"])\n",
    "    if(status == False):\n",
    "        _data = {\n",
    "            \"query\": t[\"query\"],\n",
    "            \"result\": data[0].metadata['question'] if data != \"No result\" else \"No result\",\n",
    "            \"score\": data[1] if data != \"No result\" else \"No result\"\n",
    "        }\n",
    "        results.append(_data)\n",
    "with pd.option_context('display.max_rows', None, 'display.max_columns', None):\n",
    "    df = pd.DataFrame(data=results)\n",
    "    display(df)\n",
    "    "
   ]
  },
  {
   "cell_type": "code",
   "execution_count": null,
   "metadata": {},
   "outputs": [],
   "source": []
  }
 ],
 "metadata": {
  "kernelspec": {
   "display_name": "venv",
   "language": "python",
   "name": "python3"
  },
  "language_info": {
   "codemirror_mode": {
    "name": "ipython",
    "version": 3
   },
   "file_extension": ".py",
   "mimetype": "text/x-python",
   "name": "python",
   "nbconvert_exporter": "python",
   "pygments_lexer": "ipython3",
   "version": "3.12.1"
  }
 },
 "nbformat": 4,
 "nbformat_minor": 2
}
