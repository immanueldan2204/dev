{
 "cells": [
  {
   "cell_type": "markdown",
   "metadata": {},
   "source": [
    "# **Framework, Library, and API Key**"
   ]
  },
  {
   "cell_type": "code",
   "execution_count": 1,
   "metadata": {},
   "outputs": [
    {
     "name": "stderr",
     "output_type": "stream",
     "text": [
      "/workspaces/dev/venv/lib/python3.12/site-packages/tqdm/auto.py:21: TqdmWarning: IProgress not found. Please update jupyter and ipywidgets. See https://ipywidgets.readthedocs.io/en/stable/user_install.html\n",
      "  from .autonotebook import tqdm as notebook_tqdm\n"
     ]
    }
   ],
   "source": [
    "import pandas as pd\n",
    "import json\n",
    "import time\n",
    "import resource \n",
    "\n",
    "from langchain_community.embeddings.fastembed import FastEmbedEmbeddings\n",
    "from langchain_qdrant import Qdrant\n",
    "\n",
    "import qdrant_client\n",
    "from qdrant_client import QdrantClient\n",
    "from qdrant_client.models import PointStruct, VectorParams, Distance\n"
   ]
  },
  {
   "cell_type": "markdown",
   "metadata": {},
   "source": [
    "# **Dataset**"
   ]
  },
  {
   "cell_type": "code",
   "execution_count": 2,
   "metadata": {},
   "outputs": [
    {
     "data": {
      "text/plain": [
       "{'question': 'Di mana ada lokasi Rumah Sakit Siloam?',\n",
       " 'answer': 'Ada 40 Rumah Sakit modern yang terdiri dari 13 Rumah Sakit di Jabodetabek dan 27 rumah sakit yang tersebar di Jawa, Sumatera, Kalimantan, Sulawesi, serta Bali dan Nusa Tenggara.',\n",
       " 'category': 'FAQ Website'}"
      ]
     },
     "execution_count": 2,
     "metadata": {},
     "output_type": "execute_result"
    }
   ],
   "source": [
    "# Load FAQ json.\n",
    "with open(\"../data/full_faq.json\", \"r\", encoding=\"utf-8\") as file:\n",
    "    faq_data = json.load(file)\n",
    "\n",
    "faq_data[0]\n"
   ]
  },
  {
   "cell_type": "markdown",
   "metadata": {},
   "source": [
    "# **Embedding Model**"
   ]
  },
  {
   "cell_type": "code",
   "execution_count": 3,
   "metadata": {},
   "outputs": [
    {
     "data": {
      "text/html": [
       "<div>\n",
       "<style scoped>\n",
       "    .dataframe tbody tr th:only-of-type {\n",
       "        vertical-align: middle;\n",
       "    }\n",
       "\n",
       "    .dataframe tbody tr th {\n",
       "        vertical-align: top;\n",
       "    }\n",
       "\n",
       "    .dataframe thead th {\n",
       "        text-align: right;\n",
       "    }\n",
       "</style>\n",
       "<table border=\"1\" class=\"dataframe\">\n",
       "  <thead>\n",
       "    <tr style=\"text-align: right;\">\n",
       "      <th></th>\n",
       "      <th>model</th>\n",
       "      <th>description</th>\n",
       "      <th>size_in_GB</th>\n",
       "      <th>dim</th>\n",
       "    </tr>\n",
       "  </thead>\n",
       "  <tbody>\n",
       "    <tr>\n",
       "      <th>9</th>\n",
       "      <td>sentence-transformers/paraphrase-multilingual-MiniLM-L12-v2</td>\n",
       "      <td>Text embeddings, Unimodal (text), Multilingual (~50 languages), 512 input tokens truncation, Prefixes for queries/documents: not necessary, 2019 year.</td>\n",
       "      <td>0.22</td>\n",
       "      <td>384</td>\n",
       "    </tr>\n",
       "    <tr>\n",
       "      <th>24</th>\n",
       "      <td>sentence-transformers/paraphrase-multilingual-mpnet-base-v2</td>\n",
       "      <td>Text embeddings, Unimodal (text), Multilingual (~50 languages), 384 input tokens truncation, Prefixes for queries/documents: not necessary, 2021 year.</td>\n",
       "      <td>1.00</td>\n",
       "      <td>768</td>\n",
       "    </tr>\n",
       "    <tr>\n",
       "      <th>28</th>\n",
       "      <td>intfloat/multilingual-e5-large</td>\n",
       "      <td>Text embeddings, Unimodal (text), Multilingual (~100 languages), 512 input tokens truncation, Prefixes for queries/documents: necessary, 2024 year.</td>\n",
       "      <td>2.24</td>\n",
       "      <td>1024</td>\n",
       "    </tr>\n",
       "  </tbody>\n",
       "</table>\n",
       "</div>"
      ],
      "text/plain": [
       "                                                          model  \\\n",
       "9   sentence-transformers/paraphrase-multilingual-MiniLM-L12-v2   \n",
       "24  sentence-transformers/paraphrase-multilingual-mpnet-base-v2   \n",
       "28                               intfloat/multilingual-e5-large   \n",
       "\n",
       "                                                                                                                                               description  \\\n",
       "9   Text embeddings, Unimodal (text), Multilingual (~50 languages), 512 input tokens truncation, Prefixes for queries/documents: not necessary, 2019 year.   \n",
       "24  Text embeddings, Unimodal (text), Multilingual (~50 languages), 384 input tokens truncation, Prefixes for queries/documents: not necessary, 2021 year.   \n",
       "28     Text embeddings, Unimodal (text), Multilingual (~100 languages), 512 input tokens truncation, Prefixes for queries/documents: necessary, 2024 year.   \n",
       "\n",
       "    size_in_GB   dim  \n",
       "9         0.22   384  \n",
       "24        1.00   768  \n",
       "28        2.24  1024  "
      ]
     },
     "metadata": {},
     "output_type": "display_data"
    }
   ],
   "source": [
    "from fastembed import TextEmbedding\n",
    "\n",
    "# Create the DataFrame and clean it up\n",
    "supported_models = (\n",
    "    pd.DataFrame(TextEmbedding.list_supported_models())\n",
    "    .sort_values(\"size_in_GB\")\n",
    "    .drop(columns=[\"sources\", \"model_file\", \"additional_files\", \"license\", \"tasks\"])\n",
    "    .reset_index(drop=True)\n",
    ")\n",
    "\n",
    "# Filter model.\n",
    "filtered_models = supported_models[\n",
    "    supported_models['description'].str.contains(\"multilingual\", case=False, na=False) &\n",
    "    ~supported_models['model'].str.contains(\"jinaai\", case=False, na=False)\n",
    "]\n",
    "\n",
    "# Display the filtered DataFrame with full column content\n",
    "with pd.option_context('display.max_colwidth', None):\n",
    "    display(filtered_models)\n"
   ]
  },
  {
   "cell_type": "markdown",
   "metadata": {},
   "source": [
    "# **sentence-transformers/paraphrase-multilingual-MiniLM-L12-v2**"
   ]
  },
  {
   "cell_type": "code",
   "execution_count": 37,
   "metadata": {},
   "outputs": [
    {
     "name": "stderr",
     "output_type": "stream",
     "text": [
      "/workspaces/dev/venv/lib/python3.12/site-packages/langchain_community/embeddings/fastembed.py:109: UserWarning: The model sentence-transformers/paraphrase-multilingual-MiniLM-L12-v2 now uses mean pooling instead of CLS embedding. In order to preserve the previous behaviour, consider either pinning fastembed version to 0.5.1 or using `add_custom_model` functionality.\n",
      "  values[\"model\"] = fastembed.TextEmbedding(\n"
     ]
    },
    {
     "name": "stderr",
     "output_type": "stream",
     "text": [
      "Fetching 5 files: 100%|██████████| 5/5 [00:01<00:00,  3.23it/s]\n"
     ]
    }
   ],
   "source": [
    "# Initiate FastEmbedEmbeddings\n",
    "embeddings = FastEmbedEmbeddings(\n",
    "    cache_dir=\"../embedding_cache\",\n",
    "    model_name=\"sentence-transformers/paraphrase-multilingual-MiniLM-L12-v2\"\n",
    ")\n",
    "\n",
    "url = \"http://localhost:6333\"\n",
    "# collection_name = \"faq-question\"\n",
    "# collection_name = \"faq-question-answer\"\n",
    "collection_name = \"faq-query-passage\"\n",
    "distance = Distance.COSINE\n",
    "dimension = 384\n"
   ]
  },
  {
   "cell_type": "code",
   "execution_count": 38,
   "metadata": {},
   "outputs": [
    {
     "name": "stdout",
     "output_type": "stream",
     "text": [
      "collections=[CollectionDescription(name='faq-question'), CollectionDescription(name='faq-question-answer'), CollectionDescription(name='faq-query-passage')]\n"
     ]
    }
   ],
   "source": [
    "# Initiate client.\n",
    "client = QdrantClient(\"localhost\", port=6333)\n",
    "\n",
    "# Show collections.\n",
    "collections = client.get_collections()\n",
    "print(collections)\n"
   ]
  },
  {
   "cell_type": "code",
   "execution_count": null,
   "metadata": {},
   "outputs": [],
   "source": [
    "# # Show collection details.\n",
    "# collection_info = client.get_collection(collection_name=\"test_faq_openai\")\n",
    "# print(collection_info)\n"
   ]
  },
  {
   "cell_type": "code",
   "execution_count": 23,
   "metadata": {},
   "outputs": [
    {
     "data": {
      "text/plain": [
       "True"
      ]
     },
     "execution_count": 23,
     "metadata": {},
     "output_type": "execute_result"
    }
   ],
   "source": [
    "# Delete collection.\n",
    "# client.delete_collection(collection_name=\"faq-question-answer\")\n"
   ]
  },
  {
   "cell_type": "code",
   "execution_count": 32,
   "metadata": {},
   "outputs": [],
   "source": [
    "def moveEmbedding(faq_data, batch_size=100):\n",
    "    \"\"\"\n",
    "    Load FAQ data from a JSON-like list of dictionaries and upsert embeddings into Qdrant,\n",
    "    processing the data in batches.\n",
    "    \n",
    "    Each FAQ should have the following keys: 'question', 'answer', and 'category'.\n",
    "    The text for embedding is constructed by concatenating these fields with a newline.\n",
    "    \"\"\"\n",
    "    client = qdrant_client.QdrantClient(url=url)\n",
    "    \n",
    "    # Create collection if it doesn't exist.\n",
    "    if not client.collection_exists(collection_name=collection_name):\n",
    "        client.create_collection(\n",
    "            collection_name=collection_name,\n",
    "            vectors_config=VectorParams(size=dimension, distance=distance),\n",
    "        )\n",
    "    \n",
    "    total_batches = (len(faq_data) - 1) // batch_size + 1\n",
    "    overall_start_time = time.time()\n",
    "    \n",
    "    for batch_num in range(total_batches):\n",
    "        batch_start_time = time.time()\n",
    "        start = batch_num * batch_size\n",
    "        end = start + batch_size\n",
    "        batch_faq = faq_data[start:end]\n",
    "        \n",
    "        texts = []\n",
    "        ids = []\n",
    "        payloads = []\n",
    "        \n",
    "        for i, faq in enumerate(batch_faq, start=start):\n",
    "            # Concatenate question and answer with a newline delimiter.\n",
    "            # text = faq['question']\n",
    "            # text = faq['question'] + \"\\n\" + faq['answer']\n",
    "            text = f\"query: {faq['question']}\\npassage: {faq['answer']}\"\n",
    "            texts.append(text)\n",
    "            ids.append(i)\n",
    "            payloads.append({\n",
    "                \"page_content\": text,\n",
    "                \"metadata\": {\n",
    "                    \"question\": faq['question'],\n",
    "                    \"answer\": faq['answer'],\n",
    "                    \"category\": faq['category']\n",
    "                }\n",
    "            })\n",
    "        \n",
    "        # Batch embed the texts.\n",
    "        batch_embeddings = embeddings.embed_documents(texts)\n",
    "        \n",
    "        points = []\n",
    "        for j, emb in enumerate(batch_embeddings):\n",
    "            points.append(\n",
    "                PointStruct(\n",
    "                    id=ids[j],\n",
    "                    vector=emb,\n",
    "                    payload=payloads[j]\n",
    "                )\n",
    "            )\n",
    "        \n",
    "        # Upsert the current batch of points into Qdrant.\n",
    "        client.upsert(\n",
    "            collection_name=collection_name,\n",
    "            points=points\n",
    "        )\n",
    "        \n",
    "        batch_end_time = time.time()\n",
    "        batch_elapsed = batch_end_time - batch_start_time\n",
    "        print(f\"Processed batch {batch_num+1}/{total_batches} in {batch_elapsed:.2f} seconds\")\n",
    "    \n",
    "    overall_end_time = time.time()\n",
    "    total_elapsed = overall_end_time - overall_start_time\n",
    "\n",
    "    # Calculate peak memory usage (in MB).\n",
    "    peak_memory = resource.getrusage(resource.RUSAGE_SELF).ru_maxrss / 1024\n",
    "    print(f\"Added: {len(faq_data)} FAQs in {total_elapsed:.2f} seconds, Peak Memory: {peak_memory:.2f} MB\")\n"
   ]
  },
  {
   "cell_type": "markdown",
   "metadata": {},
   "source": [
    "# **Question Only**"
   ]
  },
  {
   "cell_type": "code",
   "execution_count": 7,
   "metadata": {},
   "outputs": [
    {
     "name": "stdout",
     "output_type": "stream",
     "text": [
      "Processed batch 1/4 in 1.55 seconds\n",
      "Processed batch 2/4 in 0.75 seconds\n",
      "Processed batch 3/4 in 0.64 seconds\n",
      "Processed batch 4/4 in 0.32 seconds\n",
      "Added: 349 FAQs in 3.26 seconds, Peak Memory: 908.22 MB\n"
     ]
    }
   ],
   "source": [
    "moveEmbedding(faq_data)"
   ]
  },
  {
   "cell_type": "code",
   "execution_count": 8,
   "metadata": {},
   "outputs": [
    {
     "name": "stderr",
     "output_type": "stream",
     "text": [
      "/tmp/ipykernel_28136/2148830083.py:4: LangChainDeprecationWarning: The class `Qdrant` was deprecated in LangChain 0.1.2 and will be removed in 0.5.0. Use :class:`~QdrantVectorStore` instead.\n",
      "  qdrant = Qdrant(\n"
     ]
    }
   ],
   "source": [
    "client = QdrantClient(\n",
    "    url=url,\n",
    ")\n",
    "qdrant = Qdrant(\n",
    "    client,\n",
    "    embeddings=embeddings,\n",
    "    collection_name=collection_name,\n",
    "    distance_strategy=distance,\n",
    ")\n"
   ]
  },
  {
   "cell_type": "code",
   "execution_count": 9,
   "metadata": {},
   "outputs": [
    {
     "name": "stdout",
     "output_type": "stream",
     "text": [
      "0.9926 | Di mana ada lokasi Rumah Sakit Siloam?\n",
      "0.9410 | Alamat Siloam Hospitals Mampang dimana?\n",
      "0.9267 | Alamat Siloam Hospitals Medan dimana?\n",
      "0.9201 | Alamat Siloam Hospitals Palangkaraya dimana?\n",
      "0.8930 | Apa visi Siloam Hospitals?\n",
      "0.8910 | Alamat Siloam Hospitals Jambi dimana?\n",
      "0.8841 | Alamat Siloam Hospitals Ambon dimana?\n",
      "0.8835 | Alamat Siloam Hospitals Bangka Belitung dimana?\n",
      "0.8829 | Alamat Siloam Hospitals Balikpapan dimana?\n",
      "0.8825 | Alamat Siloam Hospitals Kupang dimana?\n",
      "0.8800 | Alamat Siloam Hospitals Purwakarta dimana?\n",
      "0.8763 | Rumah sakit Siloam di Jabodetabek apa saja?\n",
      "0.8759 | Alamat Siloam Hospitals Semarang dimana?\n",
      "0.8757 | Alamat Siloam Hospitals Labuan Bajo dimana?\n",
      "0.8752 | Alamat Siloam Hospitals Putera Bahagia dimana?\n",
      "0.8752 | Alamat Siloam Hospitals Paal Dua dimana?\n",
      "0.8739 | Rumah sakit Siloam di Tangerang apa saja?\n",
      "0.8725 | Alamat Siloam Hospitals Buton dimana?\n",
      "0.8718 | Apa misi Siloam Hospitals?\n",
      "0.8705 | Alamat Siloam Hospitals Jember dimana?\n"
     ]
    }
   ],
   "source": [
    "doc = qdrant.similarity_search_with_score('Di mana ada lokasi Rumah Sakit Siloam', score_threshold=0.1, k=20)\n",
    "for document, score in doc:\n",
    "    print(f\"{score:.4f} | {document.metadata['question']}\")\n"
   ]
  },
  {
   "cell_type": "code",
   "execution_count": 10,
   "metadata": {},
   "outputs": [
    {
     "name": "stdout",
     "output_type": "stream",
     "text": [
      "{'query': 'Di mana ada lokasi Rumah Sakit Siloam?', 'expected': 'Di mana ada lokasi Rumah Sakit Siloam?'}\n"
     ]
    }
   ],
   "source": [
    "test_list = [{'query': x['question'], 'expected': x['question']} for x in faq_data]\n",
    "print(test_list[0])"
   ]
  },
  {
   "cell_type": "code",
   "execution_count": 11,
   "metadata": {},
   "outputs": [],
   "source": [
    "test_list = test_list + [\n",
    "    {\n",
    "        \"query\": \"siloam ada dimana saja\",\n",
    "        \"expected\": \"Di mana ada lokasi Rumah Sakit Siloam?\"\n",
    "    },\n",
    "    {\n",
    "        \"query\": \"jam buka mcu\",\n",
    "        \"expected\": \"Jam buka MCU / Medical Check Up?\"\n",
    "    },\n",
    "    {\n",
    "        \"query\": \"layanan kesehatan di rumah\",\n",
    "        \"expected\": \"Apa itu Siloam at Home? Apakah Siloam memberikan layanan kesehatan di rumah atau Homecare?\"\n",
    "    },\n",
    "    {\n",
    "        \"query\": \"cek obat beli di siloam dari aplikasi\",\n",
    "        \"expected\": \"Halo saya mau cek obat yang saya beli dari Siloam, bisakah dari aplikasi MySiloam?\"\n",
    "    },\n",
    "    {\n",
    "        \"query\": \"asuransi kerjasa sama dengan siloam\",\n",
    "        \"expected\": \"Asuransi apa saja yang bekerja sama dengan Siloam?\"\n",
    "    },\n",
    "]\n"
   ]
  },
  {
   "cell_type": "code",
   "execution_count": 12,
   "metadata": {},
   "outputs": [],
   "source": [
    "def testing(qdrant, q, expected):\n",
    "    doc = qdrant.similarity_search_with_score(q, score_threshold=0.1, k=20)\n",
    "    i = 0\n",
    "    for d in doc:\n",
    "        if(d[0].metadata[\"question\"] == expected):\n",
    "            return [ True, d]\n",
    "        i += 1\n",
    "    if len(doc) == 0:\n",
    "        return [False, \"No result\"]\n",
    "    return [False, doc[0]]\n"
   ]
  },
  {
   "cell_type": "code",
   "execution_count": 13,
   "metadata": {},
   "outputs": [
    {
     "data": {
      "text/html": [
       "<div>\n",
       "<style scoped>\n",
       "    .dataframe tbody tr th:only-of-type {\n",
       "        vertical-align: middle;\n",
       "    }\n",
       "\n",
       "    .dataframe tbody tr th {\n",
       "        vertical-align: top;\n",
       "    }\n",
       "\n",
       "    .dataframe thead th {\n",
       "        text-align: right;\n",
       "    }\n",
       "</style>\n",
       "<table border=\"1\" class=\"dataframe\">\n",
       "  <thead>\n",
       "    <tr style=\"text-align: right;\">\n",
       "      <th></th>\n",
       "      <th>query</th>\n",
       "      <th>result</th>\n",
       "      <th>score</th>\n",
       "    </tr>\n",
       "  </thead>\n",
       "  <tbody>\n",
       "    <tr>\n",
       "      <th>0</th>\n",
       "      <td>jam buka mcu</td>\n",
       "      <td>Apa itu SHKP?</td>\n",
       "      <td>0.600095</td>\n",
       "    </tr>\n",
       "    <tr>\n",
       "      <th>1</th>\n",
       "      <td>asuransi kerjasa sama dengan siloam</td>\n",
       "      <td>Bagaimana alur dalam membayar dengan asuransi?</td>\n",
       "      <td>0.731035</td>\n",
       "    </tr>\n",
       "  </tbody>\n",
       "</table>\n",
       "</div>"
      ],
      "text/plain": [
       "                                 query  \\\n",
       "0                         jam buka mcu   \n",
       "1  asuransi kerjasa sama dengan siloam   \n",
       "\n",
       "                                           result     score  \n",
       "0                                   Apa itu SHKP?  0.600095  \n",
       "1  Bagaimana alur dalam membayar dengan asuransi?  0.731035  "
      ]
     },
     "metadata": {},
     "output_type": "display_data"
    }
   ],
   "source": [
    "# With question only.\n",
    "results = []\n",
    "for t in test_list:\n",
    "    [status, data] = testing(qdrant, t[\"query\"], t[\"expected\"])\n",
    "    if(status == False):\n",
    "        _data = {\n",
    "            \"query\": t[\"query\"],\n",
    "            \"result\": data[0].metadata['question'] if data != \"No result\" else \"No result\",\n",
    "            \"score\": data[1] if data != \"No result\" else \"No result\"\n",
    "        }\n",
    "        results.append(_data)\n",
    "with pd.option_context('display.max_rows', None, 'display.max_columns', None):\n",
    "    df = pd.DataFrame(data=results)\n",
    "    display(df)\n",
    "    "
   ]
  },
  {
   "cell_type": "markdown",
   "metadata": {},
   "source": [
    "# **Question + Answer** "
   ]
  },
  {
   "cell_type": "code",
   "execution_count": 26,
   "metadata": {},
   "outputs": [
    {
     "name": "stdout",
     "output_type": "stream",
     "text": [
      "Processed batch 1/4 in 4.98 seconds\n",
      "Processed batch 2/4 in 5.44 seconds\n",
      "Processed batch 3/4 in 2.22 seconds\n",
      "Processed batch 4/4 in 0.85 seconds\n",
      "Added: 349 FAQs in 13.49 seconds, Peak Memory: 1765.21 MB\n"
     ]
    }
   ],
   "source": [
    "moveEmbedding(faq_data)"
   ]
  },
  {
   "cell_type": "code",
   "execution_count": 27,
   "metadata": {},
   "outputs": [],
   "source": [
    "client = QdrantClient(\n",
    "    url=url,\n",
    ")\n",
    "qdrant = Qdrant(\n",
    "    client,\n",
    "    embeddings=embeddings,\n",
    "    collection_name=collection_name,\n",
    "    distance_strategy=distance,\n",
    ")\n"
   ]
  },
  {
   "cell_type": "code",
   "execution_count": 28,
   "metadata": {},
   "outputs": [
    {
     "name": "stdout",
     "output_type": "stream",
     "text": [
      "0.8514 | Alamat Siloam Hospitals Putera Bahagia dimana?\n",
      "0.8158 | Alamat Siloam Hospitals Purwakarta dimana?\n",
      "0.8148 | Alamat Siloam Hospitals Palangkaraya dimana?\n",
      "0.8126 | Rumah sakit Siloam Hospitals Palangkaraya punya nama lain apa?\n",
      "0.8125 | Alamat Siloam Hospitals Labuan Bajo dimana?\n",
      "0.8114 | Rumah sakit Siloam Hospitals Bekasi Timur punya nama lain apa?\n",
      "0.8056 | Rumah sakit Siloam di Tangerang apa saja?\n",
      "0.8052 | Alamat Siloam Hospitals Mampang dimana?\n",
      "0.7990 | Rumah sakit Siloam Hospitals Ambon punya nama lain apa?\n",
      "0.7956 | Rumah sakit Siloam Hospitals Bekasi Sepanjang Jaya punya nama lain apa?\n",
      "0.7943 | Rumah sakit Siloam Hospitals Labuan Bajo punya nama lain apa?\n",
      "0.7932 | Alamat Siloam Hospitals Ambon dimana?\n",
      "0.7898 | Rumah sakit Siloam di pulau Kalimantan apa saja?\n",
      "0.7872 | Alamat Siloam Hospitals Lippo Cikarang dimana?\n",
      "0.7869 | Di mana ada lokasi Rumah Sakit Siloam?\n",
      "0.7865 | Rumah sakit Siloam di pulau Jawa apa saja?\n",
      "0.7851 | Rumah sakit Siloam Hospitals Medan punya nama lain apa?\n",
      "0.7849 | Alamat Siloam Hospitals Sentosa dimana?\n",
      "0.7847 | Alamat Siloam Hospitals Bekasi Sepanjang Jaya dimana?\n",
      "0.7814 | Rumah sakit Siloam Hospitals Purwakarta punya nama lain apa?\n"
     ]
    }
   ],
   "source": [
    "doc = qdrant.similarity_search_with_score('Di mana ada lokasi Rumah Sakit Siloam', score_threshold=0.1, k=20)\n",
    "for document, score in doc:\n",
    "    print(f\"{score:.4f} | {document.metadata['question']}\")\n"
   ]
  },
  {
   "cell_type": "code",
   "execution_count": 29,
   "metadata": {},
   "outputs": [
    {
     "data": {
      "text/html": [
       "<div>\n",
       "<style scoped>\n",
       "    .dataframe tbody tr th:only-of-type {\n",
       "        vertical-align: middle;\n",
       "    }\n",
       "\n",
       "    .dataframe tbody tr th {\n",
       "        vertical-align: top;\n",
       "    }\n",
       "\n",
       "    .dataframe thead th {\n",
       "        text-align: right;\n",
       "    }\n",
       "</style>\n",
       "<table border=\"1\" class=\"dataframe\">\n",
       "  <thead>\n",
       "    <tr style=\"text-align: right;\">\n",
       "      <th></th>\n",
       "      <th>query</th>\n",
       "      <th>result</th>\n",
       "      <th>score</th>\n",
       "    </tr>\n",
       "  </thead>\n",
       "  <tbody>\n",
       "    <tr>\n",
       "      <th>0</th>\n",
       "      <td>Rumah sakit Siloam di Jabodetabek apa saja?</td>\n",
       "      <td>Alamat Siloam Hospitals Labuan Bajo dimana?</td>\n",
       "      <td>0.806024</td>\n",
       "    </tr>\n",
       "    <tr>\n",
       "      <th>1</th>\n",
       "      <td>siloam ada dimana saja</td>\n",
       "      <td>Alamat SHCN dimana?</td>\n",
       "      <td>0.294736</td>\n",
       "    </tr>\n",
       "  </tbody>\n",
       "</table>\n",
       "</div>"
      ],
      "text/plain": [
       "                                         query  \\\n",
       "0  Rumah sakit Siloam di Jabodetabek apa saja?   \n",
       "1                       siloam ada dimana saja   \n",
       "\n",
       "                                        result     score  \n",
       "0  Alamat Siloam Hospitals Labuan Bajo dimana?  0.806024  \n",
       "1                          Alamat SHCN dimana?  0.294736  "
      ]
     },
     "metadata": {},
     "output_type": "display_data"
    }
   ],
   "source": [
    "# With question + answer + category.\n",
    "results = []\n",
    "for t in test_list:\n",
    "    [status, data] = testing(qdrant, t[\"query\"], t[\"expected\"])\n",
    "    if(status == False):\n",
    "        _data = {\n",
    "            \"query\": t[\"query\"],\n",
    "            \"result\": data[0].metadata['question'] if data != \"No result\" else \"No result\",\n",
    "            \"score\": data[1] if data != \"No result\" else \"No result\"\n",
    "        }\n",
    "        results.append(_data)\n",
    "with pd.option_context('display.max_rows', None, 'display.max_columns', None):\n",
    "    df = pd.DataFrame(data=results)\n",
    "    display(df)\n",
    "    "
   ]
  },
  {
   "cell_type": "markdown",
   "metadata": {},
   "source": [
    "# **query: Question + passage: Answer** "
   ]
  },
  {
   "cell_type": "code",
   "execution_count": 33,
   "metadata": {},
   "outputs": [
    {
     "name": "stdout",
     "output_type": "stream",
     "text": [
      "Processed batch 1/4 in 5.37 seconds\n",
      "Processed batch 2/4 in 5.19 seconds\n",
      "Processed batch 3/4 in 2.58 seconds\n",
      "Processed batch 4/4 in 0.99 seconds\n",
      "Added: 349 FAQs in 14.14 seconds, Peak Memory: 2775.07 MB\n"
     ]
    }
   ],
   "source": [
    "moveEmbedding(faq_data)"
   ]
  },
  {
   "cell_type": "code",
   "execution_count": 34,
   "metadata": {},
   "outputs": [],
   "source": [
    "client = QdrantClient(\n",
    "    url=url,\n",
    ")\n",
    "qdrant = Qdrant(\n",
    "    client,\n",
    "    embeddings=embeddings,\n",
    "    collection_name=collection_name,\n",
    "    distance_strategy=distance,\n",
    ")\n"
   ]
  },
  {
   "cell_type": "code",
   "execution_count": 35,
   "metadata": {},
   "outputs": [
    {
     "name": "stdout",
     "output_type": "stream",
     "text": [
      "0.8388 | Alamat Siloam Hospitals Putera Bahagia dimana?\n",
      "0.7805 | Alamat Siloam Hospitals Purwakarta dimana?\n",
      "0.7638 | Rumah sakit Siloam di pulau Jawa apa saja?\n",
      "0.7607 | Rumah sakit Siloam di Tangerang apa saja?\n",
      "0.7554 | Alamat Siloam Hospitals Palangkaraya dimana?\n",
      "0.7532 | Rumah sakit Siloam Hospitals Bekasi Timur punya nama lain apa?\n",
      "0.7521 | Alamat Siloam Hospitals Sentosa dimana?\n",
      "0.7516 | Di mana ada lokasi Rumah Sakit Siloam?\n",
      "0.7516 | Alamat Siloam Hospitals Bekasi Sepanjang Jaya dimana?\n",
      "0.7505 | Alamat Siloam Hospitals Lippo Cikarang dimana?\n",
      "0.7453 | Alamat Siloam Hospitals Kupang dimana?\n",
      "0.7405 | Alamat Siloam Hospitals Semarang dimana?\n",
      "0.7401 | Alamat Siloam Hospitals Buton dimana?\n",
      "0.7381 | Alamat Siloam Hospitals Labuan Bajo dimana?\n",
      "0.7369 | Rumah sakit Siloam di pulau Kalimantan apa saja?\n",
      "0.7363 | Rumah sakit Siloam Hospitals Palangkaraya punya nama lain apa?\n",
      "0.7356 | Alamat Siloam Hospitals Bekasi Timur dimana?\n",
      "0.7341 | Rumah sakit Siloam Hospitals Ambon punya nama lain apa?\n",
      "0.7317 | Alamat Siloam Hospitals Mampang dimana?\n",
      "0.7311 | Alamat Siloam Hospitals Banjarmasin dimana?\n"
     ]
    }
   ],
   "source": [
    "doc = qdrant.similarity_search_with_score('Di mana ada lokasi Rumah Sakit Siloam', score_threshold=0.1, k=20)\n",
    "for document, score in doc:\n",
    "    print(f\"{score:.4f} | {document.metadata['question']}\")\n"
   ]
  },
  {
   "cell_type": "code",
   "execution_count": 36,
   "metadata": {},
   "outputs": [
    {
     "data": {
      "text/html": [
       "<div>\n",
       "<style scoped>\n",
       "    .dataframe tbody tr th:only-of-type {\n",
       "        vertical-align: middle;\n",
       "    }\n",
       "\n",
       "    .dataframe tbody tr th {\n",
       "        vertical-align: top;\n",
       "    }\n",
       "\n",
       "    .dataframe thead th {\n",
       "        text-align: right;\n",
       "    }\n",
       "</style>\n",
       "<table border=\"1\" class=\"dataframe\">\n",
       "  <thead>\n",
       "    <tr style=\"text-align: right;\">\n",
       "      <th></th>\n",
       "      <th>query</th>\n",
       "      <th>result</th>\n",
       "      <th>score</th>\n",
       "    </tr>\n",
       "  </thead>\n",
       "  <tbody>\n",
       "    <tr>\n",
       "      <th>0</th>\n",
       "      <td>Rumah sakit Siloam di Jabodetabek apa saja?</td>\n",
       "      <td>Alamat Siloam Hospitals Putera Bahagia dimana?</td>\n",
       "      <td>0.768076</td>\n",
       "    </tr>\n",
       "    <tr>\n",
       "      <th>1</th>\n",
       "      <td>Alamat SHBN dimana?</td>\n",
       "      <td>Alamat SHSB dimana?</td>\n",
       "      <td>0.686908</td>\n",
       "    </tr>\n",
       "    <tr>\n",
       "      <th>2</th>\n",
       "      <td>Alamat Siloam Hospitals Medan dimana?</td>\n",
       "      <td>Alamat Siloam Hospitals Putera Bahagia dimana?</td>\n",
       "      <td>0.868845</td>\n",
       "    </tr>\n",
       "    <tr>\n",
       "      <th>3</th>\n",
       "      <td>siloam ada dimana saja</td>\n",
       "      <td>Alamat SHLB dimana?</td>\n",
       "      <td>0.284515</td>\n",
       "    </tr>\n",
       "  </tbody>\n",
       "</table>\n",
       "</div>"
      ],
      "text/plain": [
       "                                         query  \\\n",
       "0  Rumah sakit Siloam di Jabodetabek apa saja?   \n",
       "1                          Alamat SHBN dimana?   \n",
       "2        Alamat Siloam Hospitals Medan dimana?   \n",
       "3                       siloam ada dimana saja   \n",
       "\n",
       "                                           result     score  \n",
       "0  Alamat Siloam Hospitals Putera Bahagia dimana?  0.768076  \n",
       "1                             Alamat SHSB dimana?  0.686908  \n",
       "2  Alamat Siloam Hospitals Putera Bahagia dimana?  0.868845  \n",
       "3                             Alamat SHLB dimana?  0.284515  "
      ]
     },
     "metadata": {},
     "output_type": "display_data"
    }
   ],
   "source": [
    "# With question + answer + category.\n",
    "results = []\n",
    "for t in test_list:\n",
    "    [status, data] = testing(qdrant, t[\"query\"], t[\"expected\"])\n",
    "    if(status == False):\n",
    "        _data = {\n",
    "            \"query\": t[\"query\"],\n",
    "            \"result\": data[0].metadata['question'] if data != \"No result\" else \"No result\",\n",
    "            \"score\": data[1] if data != \"No result\" else \"No result\"\n",
    "        }\n",
    "        results.append(_data)\n",
    "with pd.option_context('display.max_rows', None, 'display.max_columns', None):\n",
    "    df = pd.DataFrame(data=results)\n",
    "    display(df)\n",
    "    "
   ]
  },
  {
   "cell_type": "code",
   "execution_count": null,
   "metadata": {},
   "outputs": [],
   "source": []
  }
 ],
 "metadata": {
  "kernelspec": {
   "display_name": "venv",
   "language": "python",
   "name": "python3"
  },
  "language_info": {
   "codemirror_mode": {
    "name": "ipython",
    "version": 3
   },
   "file_extension": ".py",
   "mimetype": "text/x-python",
   "name": "python",
   "nbconvert_exporter": "python",
   "pygments_lexer": "ipython3",
   "version": "3.12.1"
  }
 },
 "nbformat": 4,
 "nbformat_minor": 2
}
