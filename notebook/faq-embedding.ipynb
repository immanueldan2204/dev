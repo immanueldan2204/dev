{
 "cells": [
  {
   "cell_type": "markdown",
   "metadata": {},
   "source": [
    "# **Framework, Library, and API Key**"
   ]
  },
  {
   "cell_type": "code",
   "execution_count": 1,
   "metadata": {},
   "outputs": [
    {
     "name": "stderr",
     "output_type": "stream",
     "text": [
      "/workspaces/dev/venv/lib/python3.12/site-packages/tqdm/auto.py:21: TqdmWarning: IProgress not found. Please update jupyter and ipywidgets. See https://ipywidgets.readthedocs.io/en/stable/user_install.html\n",
      "  from .autonotebook import tqdm as notebook_tqdm\n"
     ]
    }
   ],
   "source": [
    "import pandas as pd\n",
    "import json\n",
    "import time\n",
    "import resource \n",
    "\n",
    "from langchain_community.embeddings.fastembed import FastEmbedEmbeddings\n",
    "from langchain_qdrant import Qdrant\n",
    "\n",
    "import qdrant_client\n",
    "from qdrant_client import QdrantClient\n",
    "from qdrant_client.models import PointStruct, VectorParams, Distance\n"
   ]
  },
  {
   "cell_type": "markdown",
   "metadata": {},
   "source": [
    "# **Dataset**"
   ]
  },
  {
   "cell_type": "code",
   "execution_count": 2,
   "metadata": {},
   "outputs": [
    {
     "data": {
      "text/plain": [
       "{'question': 'Di mana ada lokasi Rumah Sakit Siloam?',\n",
       " 'answer': 'Ada 40 Rumah Sakit modern yang terdiri dari 13 Rumah Sakit di Jabodetabek dan 27 rumah sakit yang tersebar di Jawa, Sumatera, Kalimantan, Sulawesi, serta Bali dan Nusa Tenggara.',\n",
       " 'category': 'FAQ Website'}"
      ]
     },
     "execution_count": 2,
     "metadata": {},
     "output_type": "execute_result"
    }
   ],
   "source": [
    "# Load FAQ json.\n",
    "with open(\"../data/full_faq.json\", \"r\", encoding=\"utf-8\") as file:\n",
    "    faq_data = json.load(file)\n",
    "\n",
    "faq_data[0]\n"
   ]
  },
  {
   "cell_type": "markdown",
   "metadata": {},
   "source": [
    "# **Embedding Model**"
   ]
  },
  {
   "cell_type": "code",
   "execution_count": 3,
   "metadata": {},
   "outputs": [
    {
     "data": {
      "text/html": [
       "<div>\n",
       "<style scoped>\n",
       "    .dataframe tbody tr th:only-of-type {\n",
       "        vertical-align: middle;\n",
       "    }\n",
       "\n",
       "    .dataframe tbody tr th {\n",
       "        vertical-align: top;\n",
       "    }\n",
       "\n",
       "    .dataframe thead th {\n",
       "        text-align: right;\n",
       "    }\n",
       "</style>\n",
       "<table border=\"1\" class=\"dataframe\">\n",
       "  <thead>\n",
       "    <tr style=\"text-align: right;\">\n",
       "      <th></th>\n",
       "      <th>model</th>\n",
       "      <th>description</th>\n",
       "      <th>size_in_GB</th>\n",
       "      <th>dim</th>\n",
       "    </tr>\n",
       "  </thead>\n",
       "  <tbody>\n",
       "    <tr>\n",
       "      <th>9</th>\n",
       "      <td>sentence-transformers/paraphrase-multilingual-MiniLM-L12-v2</td>\n",
       "      <td>Text embeddings, Unimodal (text), Multilingual (~50 languages), 512 input tokens truncation, Prefixes for queries/documents: not necessary, 2019 year.</td>\n",
       "      <td>0.22</td>\n",
       "      <td>384</td>\n",
       "    </tr>\n",
       "    <tr>\n",
       "      <th>24</th>\n",
       "      <td>sentence-transformers/paraphrase-multilingual-mpnet-base-v2</td>\n",
       "      <td>Text embeddings, Unimodal (text), Multilingual (~50 languages), 384 input tokens truncation, Prefixes for queries/documents: not necessary, 2021 year.</td>\n",
       "      <td>1.00</td>\n",
       "      <td>768</td>\n",
       "    </tr>\n",
       "    <tr>\n",
       "      <th>28</th>\n",
       "      <td>intfloat/multilingual-e5-large</td>\n",
       "      <td>Text embeddings, Unimodal (text), Multilingual (~100 languages), 512 input tokens truncation, Prefixes for queries/documents: necessary, 2024 year.</td>\n",
       "      <td>2.24</td>\n",
       "      <td>1024</td>\n",
       "    </tr>\n",
       "  </tbody>\n",
       "</table>\n",
       "</div>"
      ],
      "text/plain": [
       "                                                          model  \\\n",
       "9   sentence-transformers/paraphrase-multilingual-MiniLM-L12-v2   \n",
       "24  sentence-transformers/paraphrase-multilingual-mpnet-base-v2   \n",
       "28                               intfloat/multilingual-e5-large   \n",
       "\n",
       "                                                                                                                                               description  \\\n",
       "9   Text embeddings, Unimodal (text), Multilingual (~50 languages), 512 input tokens truncation, Prefixes for queries/documents: not necessary, 2019 year.   \n",
       "24  Text embeddings, Unimodal (text), Multilingual (~50 languages), 384 input tokens truncation, Prefixes for queries/documents: not necessary, 2021 year.   \n",
       "28     Text embeddings, Unimodal (text), Multilingual (~100 languages), 512 input tokens truncation, Prefixes for queries/documents: necessary, 2024 year.   \n",
       "\n",
       "    size_in_GB   dim  \n",
       "9         0.22   384  \n",
       "24        1.00   768  \n",
       "28        2.24  1024  "
      ]
     },
     "metadata": {},
     "output_type": "display_data"
    }
   ],
   "source": [
    "from fastembed import TextEmbedding\n",
    "\n",
    "# Create the DataFrame and clean it up\n",
    "supported_models = (\n",
    "    pd.DataFrame(TextEmbedding.list_supported_models())\n",
    "    .sort_values(\"size_in_GB\")\n",
    "    .drop(columns=[\"sources\", \"model_file\", \"additional_files\", \"license\", \"tasks\"])\n",
    "    .reset_index(drop=True)\n",
    ")\n",
    "\n",
    "# Filter model.\n",
    "filtered_models = supported_models[\n",
    "    supported_models['description'].str.contains(\"multilingual\", case=False, na=False) &\n",
    "    ~supported_models['model'].str.contains(\"jinaai\", case=False, na=False)\n",
    "]\n",
    "\n",
    "# Display the filtered DataFrame with full column content\n",
    "with pd.option_context('display.max_colwidth', None):\n",
    "    display(filtered_models)\n"
   ]
  },
  {
   "cell_type": "markdown",
   "metadata": {},
   "source": [
    "# **sentence-transformers/paraphrase-multilingual-mpnet-base-v2**"
   ]
  },
  {
   "cell_type": "code",
   "execution_count": 4,
   "metadata": {},
   "outputs": [
    {
     "name": "stderr",
     "output_type": "stream",
     "text": [
      "\u001b[32m2025-03-18 01:13:27.322\u001b[0m | \u001b[31m\u001b[1mERROR   \u001b[0m | \u001b[36mfastembed.common.model_management\u001b[0m:\u001b[36mdownload_model\u001b[0m:\u001b[36m429\u001b[0m - \u001b[31m\u001b[1mCould not download model from HuggingFace: 403 Forbidden: None.\n",
      "Cannot access content at: https://huggingface.co/api/models/xenova/paraphrase-multilingual-mpnet-base-v2.\n",
      "Make sure your token has the correct permissions. Falling back to other sources.\u001b[0m\n",
      "\u001b[32m2025-03-18 01:13:27.323\u001b[0m | \u001b[31m\u001b[1mERROR   \u001b[0m | \u001b[36mfastembed.common.model_management\u001b[0m:\u001b[36mdownload_model\u001b[0m:\u001b[36m450\u001b[0m - \u001b[31m\u001b[1mCould not download model from either source, sleeping for 3.0 seconds, 2 retries left.\u001b[0m\n",
      "\u001b[32m2025-03-18 01:13:30.328\u001b[0m | \u001b[31m\u001b[1mERROR   \u001b[0m | \u001b[36mfastembed.common.model_management\u001b[0m:\u001b[36mdownload_model\u001b[0m:\u001b[36m429\u001b[0m - \u001b[31m\u001b[1mCould not download model from HuggingFace: 403 Forbidden: None.\n",
      "Cannot access content at: https://huggingface.co/api/models/xenova/paraphrase-multilingual-mpnet-base-v2.\n",
      "Make sure your token has the correct permissions. Falling back to other sources.\u001b[0m\n",
      "\u001b[32m2025-03-18 01:13:30.329\u001b[0m | \u001b[31m\u001b[1mERROR   \u001b[0m | \u001b[36mfastembed.common.model_management\u001b[0m:\u001b[36mdownload_model\u001b[0m:\u001b[36m450\u001b[0m - \u001b[31m\u001b[1mCould not download model from either source, sleeping for 9.0 seconds, 1 retries left.\u001b[0m\n",
      "\u001b[32m2025-03-18 01:13:39.333\u001b[0m | \u001b[31m\u001b[1mERROR   \u001b[0m | \u001b[36mfastembed.common.model_management\u001b[0m:\u001b[36mdownload_model\u001b[0m:\u001b[36m429\u001b[0m - \u001b[31m\u001b[1mCould not download model from HuggingFace: 403 Forbidden: None.\n",
      "Cannot access content at: https://huggingface.co/api/models/xenova/paraphrase-multilingual-mpnet-base-v2.\n",
      "Make sure your token has the correct permissions. Falling back to other sources.\u001b[0m\n",
      "\u001b[32m2025-03-18 01:13:39.334\u001b[0m | \u001b[31m\u001b[1mERROR   \u001b[0m | \u001b[36mfastembed.common.model_management\u001b[0m:\u001b[36mdownload_model\u001b[0m:\u001b[36m450\u001b[0m - \u001b[31m\u001b[1mCould not download model from either source, sleeping for 27.0 seconds, 0 retries left.\u001b[0m\n"
     ]
    },
    {
     "ename": "KeyboardInterrupt",
     "evalue": "",
     "output_type": "error",
     "traceback": [
      "\u001b[31m---------------------------------------------------------------------------\u001b[39m",
      "\u001b[31mKeyboardInterrupt\u001b[39m                         Traceback (most recent call last)",
      "\u001b[36mCell\u001b[39m\u001b[36m \u001b[39m\u001b[32mIn[4]\u001b[39m\u001b[32m, line 2\u001b[39m\n\u001b[32m      1\u001b[39m \u001b[38;5;66;03m# Initiate FastEmbedEmbeddings\u001b[39;00m\n\u001b[32m----> \u001b[39m\u001b[32m2\u001b[39m embeddings = \u001b[43mFastEmbedEmbeddings\u001b[49m\u001b[43m(\u001b[49m\n\u001b[32m      3\u001b[39m \u001b[43m    \u001b[49m\u001b[43mcache_dir\u001b[49m\u001b[43m=\u001b[49m\u001b[33;43m\"\u001b[39;49m\u001b[33;43m../embedding_cache\u001b[39;49m\u001b[33;43m\"\u001b[39;49m\u001b[43m,\u001b[49m\n\u001b[32m      4\u001b[39m \u001b[43m    \u001b[49m\u001b[43mmodel_name\u001b[49m\u001b[43m=\u001b[49m\u001b[33;43m\"\u001b[39;49m\u001b[33;43msentence-transformers/paraphrase-multilingual-mpnet-base-v2\u001b[39;49m\u001b[33;43m\"\u001b[39;49m\n\u001b[32m      5\u001b[39m \u001b[43m)\u001b[49m\n\u001b[32m      7\u001b[39m url = \u001b[33m\"\u001b[39m\u001b[33mhttp://localhost:6333\u001b[39m\u001b[33m\"\u001b[39m\n\u001b[32m      8\u001b[39m collection_name = \u001b[33m\"\u001b[39m\u001b[33mfaq-question\u001b[39m\u001b[33m\"\u001b[39m\n",
      "    \u001b[31m[... skipping hidden 1 frame]\u001b[39m\n",
      "\u001b[36mFile \u001b[39m\u001b[32m/workspaces/dev/venv/lib/python3.12/site-packages/pydantic/_internal/_decorators_v1.py:148\u001b[39m, in \u001b[36mmake_v1_generic_root_validator.<locals>._wrapper1\u001b[39m\u001b[34m(values, _)\u001b[39m\n\u001b[32m    147\u001b[39m \u001b[38;5;28;01mdef\u001b[39;00m\u001b[38;5;250m \u001b[39m\u001b[34m_wrapper1\u001b[39m(values: RootValidatorValues, _: core_schema.ValidationInfo) -> RootValidatorValues:\n\u001b[32m--> \u001b[39m\u001b[32m148\u001b[39m     \u001b[38;5;28;01mreturn\u001b[39;00m \u001b[43mvalidator\u001b[49m\u001b[43m(\u001b[49m\u001b[43mvalues\u001b[49m\u001b[43m)\u001b[49m\n",
      "\u001b[36mFile \u001b[39m\u001b[32m/workspaces/dev/venv/lib/python3.12/site-packages/langchain_core/utils/pydantic.py:222\u001b[39m, in \u001b[36mpre_init.<locals>.wrapper\u001b[39m\u001b[34m(cls, values)\u001b[39m\n\u001b[32m    219\u001b[39m             values[name] = field_info.default\n\u001b[32m    221\u001b[39m \u001b[38;5;66;03m# Call the decorated function\u001b[39;00m\n\u001b[32m--> \u001b[39m\u001b[32m222\u001b[39m \u001b[38;5;28;01mreturn\u001b[39;00m \u001b[43mfunc\u001b[49m\u001b[43m(\u001b[49m\u001b[38;5;28;43mcls\u001b[39;49m\u001b[43m,\u001b[49m\u001b[43m \u001b[49m\u001b[43mvalues\u001b[49m\u001b[43m)\u001b[49m\n",
      "\u001b[36mFile \u001b[39m\u001b[32m/workspaces/dev/venv/lib/python3.12/site-packages/langchain_community/embeddings/fastembed.py:109\u001b[39m, in \u001b[36mFastEmbedEmbeddings.validate_environment\u001b[39m\u001b[34m(cls, values)\u001b[39m\n\u001b[32m    103\u001b[39m \u001b[38;5;28;01mif\u001b[39;00m importlib.metadata.version(pkg_to_install) < MIN_VERSION:\n\u001b[32m    104\u001b[39m     \u001b[38;5;28;01mraise\u001b[39;00m \u001b[38;5;167;01mImportError\u001b[39;00m(\n\u001b[32m    105\u001b[39m         \u001b[33mf\u001b[39m\u001b[33m\"\u001b[39m\u001b[33mFastEmbedEmbeddings requires \u001b[39m\u001b[33m\"\u001b[39m\n\u001b[32m    106\u001b[39m         \u001b[33mf\u001b[39m\u001b[33m'\u001b[39m\u001b[33m`pip install -U \u001b[39m\u001b[33m\"\u001b[39m\u001b[38;5;132;01m{\u001b[39;00mpkg_to_install\u001b[38;5;132;01m}\u001b[39;00m\u001b[33m>=\u001b[39m\u001b[38;5;132;01m{\u001b[39;00mMIN_VERSION\u001b[38;5;132;01m}\u001b[39;00m\u001b[33m\"\u001b[39m\u001b[33m`.\u001b[39m\u001b[33m'\u001b[39m\n\u001b[32m    107\u001b[39m     )\n\u001b[32m--> \u001b[39m\u001b[32m109\u001b[39m values[\u001b[33m\"\u001b[39m\u001b[33mmodel\u001b[39m\u001b[33m\"\u001b[39m] = \u001b[43mfastembed\u001b[49m\u001b[43m.\u001b[49m\u001b[43mTextEmbedding\u001b[49m\u001b[43m(\u001b[49m\n\u001b[32m    110\u001b[39m \u001b[43m    \u001b[49m\u001b[43mmodel_name\u001b[49m\u001b[43m=\u001b[49m\u001b[43mmodel_name\u001b[49m\u001b[43m,\u001b[49m\n\u001b[32m    111\u001b[39m \u001b[43m    \u001b[49m\u001b[43mmax_length\u001b[49m\u001b[43m=\u001b[49m\u001b[43mmax_length\u001b[49m\u001b[43m,\u001b[49m\n\u001b[32m    112\u001b[39m \u001b[43m    \u001b[49m\u001b[43mcache_dir\u001b[49m\u001b[43m=\u001b[49m\u001b[43mcache_dir\u001b[49m\u001b[43m,\u001b[49m\n\u001b[32m    113\u001b[39m \u001b[43m    \u001b[49m\u001b[43mthreads\u001b[49m\u001b[43m=\u001b[49m\u001b[43mthreads\u001b[49m\u001b[43m,\u001b[49m\n\u001b[32m    114\u001b[39m \u001b[43m    \u001b[49m\u001b[43mproviders\u001b[49m\u001b[43m=\u001b[49m\u001b[43mproviders\u001b[49m\u001b[43m,\u001b[49m\n\u001b[32m    115\u001b[39m \u001b[43m\u001b[49m\u001b[43m)\u001b[49m\n\u001b[32m    116\u001b[39m \u001b[38;5;28;01mreturn\u001b[39;00m values\n",
      "\u001b[36mFile \u001b[39m\u001b[32m/workspaces/dev/venv/lib/python3.12/site-packages/fastembed/text/text_embedding.py:114\u001b[39m, in \u001b[36mTextEmbedding.__init__\u001b[39m\u001b[34m(self, model_name, cache_dir, threads, providers, cuda, device_ids, lazy_load, **kwargs)\u001b[39m\n\u001b[32m    112\u001b[39m     supported_models = EMBEDDING_MODEL_TYPE._list_supported_models()\n\u001b[32m    113\u001b[39m     \u001b[38;5;28;01mif\u001b[39;00m \u001b[38;5;28many\u001b[39m(model_name.lower() == model.model.lower() \u001b[38;5;28;01mfor\u001b[39;00m model \u001b[38;5;129;01min\u001b[39;00m supported_models):\n\u001b[32m--> \u001b[39m\u001b[32m114\u001b[39m         \u001b[38;5;28mself\u001b[39m.model = \u001b[43mEMBEDDING_MODEL_TYPE\u001b[49m\u001b[43m(\u001b[49m\n\u001b[32m    115\u001b[39m \u001b[43m            \u001b[49m\u001b[43mmodel_name\u001b[49m\u001b[43m=\u001b[49m\u001b[43mmodel_name\u001b[49m\u001b[43m,\u001b[49m\n\u001b[32m    116\u001b[39m \u001b[43m            \u001b[49m\u001b[43mcache_dir\u001b[49m\u001b[43m=\u001b[49m\u001b[43mcache_dir\u001b[49m\u001b[43m,\u001b[49m\n\u001b[32m    117\u001b[39m \u001b[43m            \u001b[49m\u001b[43mthreads\u001b[49m\u001b[43m=\u001b[49m\u001b[43mthreads\u001b[49m\u001b[43m,\u001b[49m\n\u001b[32m    118\u001b[39m \u001b[43m            \u001b[49m\u001b[43mproviders\u001b[49m\u001b[43m=\u001b[49m\u001b[43mproviders\u001b[49m\u001b[43m,\u001b[49m\n\u001b[32m    119\u001b[39m \u001b[43m            \u001b[49m\u001b[43mcuda\u001b[49m\u001b[43m=\u001b[49m\u001b[43mcuda\u001b[49m\u001b[43m,\u001b[49m\n\u001b[32m    120\u001b[39m \u001b[43m            \u001b[49m\u001b[43mdevice_ids\u001b[49m\u001b[43m=\u001b[49m\u001b[43mdevice_ids\u001b[49m\u001b[43m,\u001b[49m\n\u001b[32m    121\u001b[39m \u001b[43m            \u001b[49m\u001b[43mlazy_load\u001b[49m\u001b[43m=\u001b[49m\u001b[43mlazy_load\u001b[49m\u001b[43m,\u001b[49m\n\u001b[32m    122\u001b[39m \u001b[43m            \u001b[49m\u001b[43m*\u001b[49m\u001b[43m*\u001b[49m\u001b[43mkwargs\u001b[49m\u001b[43m,\u001b[49m\n\u001b[32m    123\u001b[39m \u001b[43m        \u001b[49m\u001b[43m)\u001b[49m\n\u001b[32m    124\u001b[39m         \u001b[38;5;28;01mreturn\u001b[39;00m\n\u001b[32m    126\u001b[39m \u001b[38;5;28;01mraise\u001b[39;00m \u001b[38;5;167;01mValueError\u001b[39;00m(\n\u001b[32m    127\u001b[39m     \u001b[33mf\u001b[39m\u001b[33m\"\u001b[39m\u001b[33mModel \u001b[39m\u001b[38;5;132;01m{\u001b[39;00mmodel_name\u001b[38;5;132;01m}\u001b[39;00m\u001b[33m is not supported in TextEmbedding. \u001b[39m\u001b[33m\"\u001b[39m\n\u001b[32m    128\u001b[39m     \u001b[33m\"\u001b[39m\u001b[33mPlease check the supported models using `TextEmbedding.list_supported_models()`\u001b[39m\u001b[33m\"\u001b[39m\n\u001b[32m    129\u001b[39m )\n",
      "\u001b[36mFile \u001b[39m\u001b[32m/workspaces/dev/venv/lib/python3.12/site-packages/fastembed/text/onnx_embedding.py:247\u001b[39m, in \u001b[36mOnnxTextEmbedding.__init__\u001b[39m\u001b[34m(self, model_name, cache_dir, threads, providers, cuda, device_ids, lazy_load, device_id, specific_model_path, **kwargs)\u001b[39m\n\u001b[32m    245\u001b[39m \u001b[38;5;28mself\u001b[39m.model_description = \u001b[38;5;28mself\u001b[39m._get_model_description(model_name)\n\u001b[32m    246\u001b[39m \u001b[38;5;28mself\u001b[39m.cache_dir = \u001b[38;5;28mstr\u001b[39m(define_cache_dir(cache_dir))\n\u001b[32m--> \u001b[39m\u001b[32m247\u001b[39m \u001b[38;5;28mself\u001b[39m._model_dir = \u001b[38;5;28;43mself\u001b[39;49m\u001b[43m.\u001b[49m\u001b[43mdownload_model\u001b[49m\u001b[43m(\u001b[49m\n\u001b[32m    248\u001b[39m \u001b[43m    \u001b[49m\u001b[38;5;28;43mself\u001b[39;49m\u001b[43m.\u001b[49m\u001b[43mmodel_description\u001b[49m\u001b[43m,\u001b[49m\n\u001b[32m    249\u001b[39m \u001b[43m    \u001b[49m\u001b[38;5;28;43mself\u001b[39;49m\u001b[43m.\u001b[49m\u001b[43mcache_dir\u001b[49m\u001b[43m,\u001b[49m\n\u001b[32m    250\u001b[39m \u001b[43m    \u001b[49m\u001b[43mlocal_files_only\u001b[49m\u001b[43m=\u001b[49m\u001b[38;5;28;43mself\u001b[39;49m\u001b[43m.\u001b[49m\u001b[43m_local_files_only\u001b[49m\u001b[43m,\u001b[49m\n\u001b[32m    251\u001b[39m \u001b[43m    \u001b[49m\u001b[43mspecific_model_path\u001b[49m\u001b[43m=\u001b[49m\u001b[43mspecific_model_path\u001b[49m\u001b[43m,\u001b[49m\n\u001b[32m    252\u001b[39m \u001b[43m\u001b[49m\u001b[43m)\u001b[49m\n\u001b[32m    254\u001b[39m \u001b[38;5;28;01mif\u001b[39;00m \u001b[38;5;129;01mnot\u001b[39;00m \u001b[38;5;28mself\u001b[39m.lazy_load:\n\u001b[32m    255\u001b[39m     \u001b[38;5;28mself\u001b[39m.load_onnx_model()\n",
      "\u001b[36mFile \u001b[39m\u001b[32m/workspaces/dev/venv/lib/python3.12/site-packages/fastembed/common/model_management.py:453\u001b[39m, in \u001b[36mModelManagement.download_model\u001b[39m\u001b[34m(cls, model, cache_dir, retries, **kwargs)\u001b[39m\n\u001b[32m    449\u001b[39m     \u001b[38;5;28;01melse\u001b[39;00m:\n\u001b[32m    450\u001b[39m         logger.error(\n\u001b[32m    451\u001b[39m             \u001b[33mf\u001b[39m\u001b[33m\"\u001b[39m\u001b[33mCould not download model from either source, sleeping for \u001b[39m\u001b[38;5;132;01m{\u001b[39;00msleep\u001b[38;5;132;01m}\u001b[39;00m\u001b[33m seconds, \u001b[39m\u001b[38;5;132;01m{\u001b[39;00mretries\u001b[38;5;132;01m}\u001b[39;00m\u001b[33m retries left.\u001b[39m\u001b[33m\"\u001b[39m\n\u001b[32m    452\u001b[39m         )\n\u001b[32m--> \u001b[39m\u001b[32m453\u001b[39m     \u001b[43mtime\u001b[49m\u001b[43m.\u001b[49m\u001b[43msleep\u001b[49m\u001b[43m(\u001b[49m\u001b[43msleep\u001b[49m\u001b[43m)\u001b[49m\n\u001b[32m    454\u001b[39m     sleep *= \u001b[32m3\u001b[39m\n\u001b[32m    456\u001b[39m \u001b[38;5;28;01mraise\u001b[39;00m \u001b[38;5;167;01mValueError\u001b[39;00m(\u001b[33mf\u001b[39m\u001b[33m\"\u001b[39m\u001b[33mCould not load model \u001b[39m\u001b[38;5;132;01m{\u001b[39;00mmodel.model\u001b[38;5;132;01m}\u001b[39;00m\u001b[33m from any source.\u001b[39m\u001b[33m\"\u001b[39m)\n",
      "\u001b[31mKeyboardInterrupt\u001b[39m: "
     ]
    }
   ],
   "source": [
    "# Initiate FastEmbedEmbeddings\n",
    "embeddings = FastEmbedEmbeddings(\n",
    "    cache_dir=\"../embedding_cache\",\n",
    "    model_name=\"sentence-transformers/paraphrase-multilingual-mpnet-base-v2\"\n",
    ")\n",
    "\n",
    "url = \"http://localhost:6333\"\n",
    "collection_name = \"faq-question\"\n",
    "distance = Distance.COSINE\n",
    "dimension = 768\n"
   ]
  },
  {
   "cell_type": "code",
   "execution_count": 7,
   "metadata": {},
   "outputs": [
    {
     "name": "stdout",
     "output_type": "stream",
     "text": [
      "collections=[CollectionDescription(name='faq-question'), CollectionDescription(name='faq-question-answer')]\n"
     ]
    }
   ],
   "source": [
    "# Initiate client.\n",
    "client = QdrantClient(\"localhost\", port=6333)\n",
    "\n",
    "# Show collections.\n",
    "collections = client.get_collections()\n",
    "print(collections)\n"
   ]
  },
  {
   "cell_type": "code",
   "execution_count": null,
   "metadata": {},
   "outputs": [],
   "source": [
    "# # Show collection details.\n",
    "# collection_info = client.get_collection(collection_name=\"test_faq_openai\")\n",
    "# print(collection_info)\n"
   ]
  },
  {
   "cell_type": "code",
   "execution_count": 6,
   "metadata": {},
   "outputs": [
    {
     "data": {
      "text/plain": [
       "True"
      ]
     },
     "execution_count": 6,
     "metadata": {},
     "output_type": "execute_result"
    }
   ],
   "source": [
    "# # Delete collection.\n",
    "# client.delete_collection(collection_name=\"faq-question\")\n",
    "# client.delete_collection(collection_name=\"faq-question-answer\")\n",
    "# client.delete_collection(collection_name=\"faq-query-passage\")\n"
   ]
  },
  {
   "cell_type": "code",
   "execution_count": 8,
   "metadata": {},
   "outputs": [],
   "source": [
    "def moveEmbedding(faq_data, batch_size=100):\n",
    "    \"\"\"\n",
    "    Load FAQ data from a JSON-like list of dictionaries and upsert embeddings into Qdrant,\n",
    "    processing the data in batches.\n",
    "    \n",
    "    Each FAQ should have the following keys: 'question', 'answer', and 'category'.\n",
    "    The text for embedding is constructed by concatenating these fields with a newline.\n",
    "    \"\"\"\n",
    "    client = qdrant_client.QdrantClient(url=url)\n",
    "    \n",
    "    # Create collection if it doesn't exist.\n",
    "    if not client.collection_exists(collection_name=collection_name):\n",
    "        client.create_collection(\n",
    "            collection_name=collection_name,\n",
    "            vectors_config=VectorParams(size=dimension, distance=distance),\n",
    "        )\n",
    "    \n",
    "    total_batches = (len(faq_data) - 1) // batch_size + 1\n",
    "    overall_start_time = time.time()\n",
    "    \n",
    "    for batch_num in range(total_batches):\n",
    "        batch_start_time = time.time()\n",
    "        start = batch_num * batch_size\n",
    "        end = start + batch_size\n",
    "        batch_faq = faq_data[start:end]\n",
    "        \n",
    "        texts = []\n",
    "        ids = []\n",
    "        payloads = []\n",
    "        \n",
    "        for i, faq in enumerate(batch_faq, start=start):\n",
    "            # Concatenate question and answer with a newline delimiter.\n",
    "            # text = faq['question']\n",
    "            # text = faq['question'] + \"\\n\" + faq['answer']\n",
    "            text = f\"query: {faq['question']}\\npassage: {faq['answer']}\"\n",
    "            texts.append(text)\n",
    "            ids.append(i)\n",
    "            payloads.append({\n",
    "                \"page_content\": text,\n",
    "                \"metadata\": {\n",
    "                    \"question\": faq['question'],\n",
    "                    \"answer\": faq['answer'],\n",
    "                    \"category\": faq['category']\n",
    "                }\n",
    "            })\n",
    "        \n",
    "        # Batch embed the texts.\n",
    "        batch_embeddings = embeddings.embed_documents(texts)\n",
    "        \n",
    "        points = []\n",
    "        for j, emb in enumerate(batch_embeddings):\n",
    "            points.append(\n",
    "                PointStruct(\n",
    "                    id=ids[j],\n",
    "                    vector=emb,\n",
    "                    payload=payloads[j]\n",
    "                )\n",
    "            )\n",
    "        \n",
    "        # Upsert the current batch of points into Qdrant.\n",
    "        client.upsert(\n",
    "            collection_name=collection_name,\n",
    "            points=points\n",
    "        )\n",
    "        \n",
    "        batch_end_time = time.time()\n",
    "        batch_elapsed = batch_end_time - batch_start_time\n",
    "        print(f\"Processed batch {batch_num+1}/{total_batches} in {batch_elapsed:.2f} seconds\")\n",
    "    \n",
    "    overall_end_time = time.time()\n",
    "    total_elapsed = overall_end_time - overall_start_time\n",
    "\n",
    "    # Calculate peak memory usage (in MB).\n",
    "    peak_memory = resource.getrusage(resource.RUSAGE_SELF).ru_maxrss / 1024\n",
    "    print(f\"Added: {len(faq_data)} FAQs in {total_elapsed:.2f} seconds, Peak Memory: {peak_memory:.2f} MB\")\n"
   ]
  },
  {
   "cell_type": "markdown",
   "metadata": {},
   "source": [
    "# **Question Only**"
   ]
  },
  {
   "cell_type": "code",
   "execution_count": 9,
   "metadata": {},
   "outputs": [
    {
     "name": "stdout",
     "output_type": "stream",
     "text": [
      "Processed batch 1/4 in 4.71 seconds\n",
      "Processed batch 2/4 in 2.59 seconds\n",
      "Processed batch 3/4 in 2.43 seconds\n",
      "Processed batch 4/4 in 1.09 seconds\n",
      "Added: 349 FAQs in 10.82 seconds, Peak Memory: 2322.62 MB\n"
     ]
    }
   ],
   "source": [
    "moveEmbedding(faq_data)"
   ]
  },
  {
   "cell_type": "code",
   "execution_count": 10,
   "metadata": {},
   "outputs": [
    {
     "name": "stderr",
     "output_type": "stream",
     "text": [
      "/tmp/ipykernel_39510/2148830083.py:4: LangChainDeprecationWarning: The class `Qdrant` was deprecated in LangChain 0.1.2 and will be removed in 0.5.0. Use :class:`~QdrantVectorStore` instead.\n",
      "  qdrant = Qdrant(\n"
     ]
    }
   ],
   "source": [
    "client = QdrantClient(\n",
    "    url=url,\n",
    ")\n",
    "qdrant = Qdrant(\n",
    "    client,\n",
    "    embeddings=embeddings,\n",
    "    collection_name=collection_name,\n",
    "    distance_strategy=distance,\n",
    ")\n"
   ]
  },
  {
   "cell_type": "code",
   "execution_count": 11,
   "metadata": {},
   "outputs": [
    {
     "name": "stdout",
     "output_type": "stream",
     "text": [
      "0.9851 | Di mana ada lokasi Rumah Sakit Siloam?\n",
      "0.9205 | Alamat Siloam Hospitals Buton dimana?\n",
      "0.9033 | Alamat Siloam Hospitals Kupang dimana?\n",
      "0.8978 | Alamat Siloam Hospitals Medan dimana?\n",
      "0.8948 | Alamat Siloam Hospitals Bangka Belitung dimana?\n",
      "0.8934 | Alamat Siloam Hospitals Paal Dua dimana?\n",
      "0.8925 | Alamat Siloam Hospitals Labuan Bajo dimana?\n",
      "0.8875 | Rumah sakit Siloam di Tangerang apa saja?\n",
      "0.8851 | Alamat Siloam Hospitals Kelapa Dua dimana?\n",
      "0.8809 | Alamat Siloam Hospitals Agora Cempaka Putih dimana?\n",
      "0.8801 | Alamat Siloam Hospitals Jember dimana?\n",
      "0.8789 | Alamat Siloam Hospitals Mampang dimana?\n",
      "0.8766 | Alamat Siloam Hospitals Lubuk Linggau dimana?\n",
      "0.8721 | Alamat Siloam Hospitals Bekasi Timur dimana?\n",
      "0.8649 | Alamat Siloam Hospitals Bogor dimana?\n",
      "0.8615 | Alamat Siloam Hospitals Ambon dimana?\n",
      "0.8597 | Alamat MRCCC Siloam Hospitals Semanggi dimana?\n",
      "0.8589 | Alamat Siloam Hospitals Sentosa dimana?\n",
      "0.8542 | Alamat Siloam Hospitals Mataram dimana?\n",
      "0.8536 | Alamat Siloam Hospitals Balikpapan dimana?\n"
     ]
    }
   ],
   "source": [
    "doc = qdrant.similarity_search_with_score('Di mana ada lokasi Rumah Sakit Siloam', score_threshold=0.1, k=20)\n",
    "for document, score in doc:\n",
    "    print(f\"{score:.4f} | {document.metadata['question']}\")\n"
   ]
  },
  {
   "cell_type": "code",
   "execution_count": 9,
   "metadata": {},
   "outputs": [
    {
     "name": "stdout",
     "output_type": "stream",
     "text": [
      "{'query': 'Di mana ada lokasi Rumah Sakit Siloam?', 'expected': 'Di mana ada lokasi Rumah Sakit Siloam?'}\n"
     ]
    }
   ],
   "source": [
    "test_list = [{'query': x['question'], 'expected': x['question']} for x in faq_data]\n",
    "print(test_list[0])"
   ]
  },
  {
   "cell_type": "code",
   "execution_count": 10,
   "metadata": {},
   "outputs": [],
   "source": [
    "test_list = test_list + [\n",
    "    {\n",
    "        \"query\": \"siloam ada dimana saja\",\n",
    "        \"expected\": \"Di mana ada lokasi Rumah Sakit Siloam?\"\n",
    "    },\n",
    "    {\n",
    "        \"query\": \"jam buka mcu\",\n",
    "        \"expected\": \"Jam buka MCU / Medical Check Up?\"\n",
    "    },\n",
    "    {\n",
    "        \"query\": \"layanan kesehatan di rumah\",\n",
    "        \"expected\": \"Apa itu Siloam at Home? Apakah Siloam memberikan layanan kesehatan di rumah atau Homecare?\"\n",
    "    },\n",
    "    {\n",
    "        \"query\": \"cek obat beli di siloam dari aplikasi\",\n",
    "        \"expected\": \"Halo saya mau cek obat yang saya beli dari Siloam, bisakah dari aplikasi MySiloam?\"\n",
    "    },\n",
    "    {\n",
    "        \"query\": \"asuransi kerjasa sama dengan siloam\",\n",
    "        \"expected\": \"Asuransi apa saja yang bekerja sama dengan Siloam?\"\n",
    "    },\n",
    "    {\n",
    "        \"query\": \"test\",\n",
    "        \"expected\": \"test\"\n",
    "    },\n",
    "    \n",
    "]\n"
   ]
  },
  {
   "cell_type": "code",
   "execution_count": 11,
   "metadata": {},
   "outputs": [],
   "source": [
    "def testing(qdrant, q, expected):\n",
    "    doc = qdrant.similarity_search_with_score(q, score_threshold=0.1, k=20)\n",
    "    i = 0\n",
    "    for d in doc:\n",
    "        if(d[0].metadata[\"question\"] == expected):\n",
    "            return [ True, d]\n",
    "        i += 1\n",
    "    if len(doc) == 0:\n",
    "        return [False, \"No result\"]\n",
    "    return [False, doc[0]]\n"
   ]
  },
  {
   "cell_type": "code",
   "execution_count": 19,
   "metadata": {},
   "outputs": [
    {
     "data": {
      "text/html": [
       "<div>\n",
       "<style scoped>\n",
       "    .dataframe tbody tr th:only-of-type {\n",
       "        vertical-align: middle;\n",
       "    }\n",
       "\n",
       "    .dataframe tbody tr th {\n",
       "        vertical-align: top;\n",
       "    }\n",
       "\n",
       "    .dataframe thead th {\n",
       "        text-align: right;\n",
       "    }\n",
       "</style>\n",
       "<table border=\"1\" class=\"dataframe\">\n",
       "  <thead>\n",
       "    <tr style=\"text-align: right;\">\n",
       "      <th></th>\n",
       "      <th>query</th>\n",
       "      <th>result</th>\n",
       "      <th>score</th>\n",
       "    </tr>\n",
       "  </thead>\n",
       "  <tbody>\n",
       "    <tr>\n",
       "      <th>0</th>\n",
       "      <td>test</td>\n",
       "      <td>Berapa lama hasil dari MCU / Medical Check Up ...</td>\n",
       "      <td>0.52157</td>\n",
       "    </tr>\n",
       "  </tbody>\n",
       "</table>\n",
       "</div>"
      ],
      "text/plain": [
       "  query                                             result    score\n",
       "0  test  Berapa lama hasil dari MCU / Medical Check Up ...  0.52157"
      ]
     },
     "metadata": {},
     "output_type": "display_data"
    }
   ],
   "source": [
    "# With question only.\n",
    "results = []\n",
    "for t in test_list:\n",
    "    [status, data] = testing(qdrant, t[\"query\"], t[\"expected\"])\n",
    "    if(status == False):\n",
    "        _data = {\n",
    "            \"query\": t[\"query\"],\n",
    "            \"result\": data[0].metadata['question'] if data != \"No result\" else \"No result\",\n",
    "            \"score\": data[1] if data != \"No result\" else \"No result\"\n",
    "        }\n",
    "        results.append(_data)\n",
    "with pd.option_context('display.max_rows', None, 'display.max_columns', None):\n",
    "    df = pd.DataFrame(data=results)\n",
    "    display(df)\n",
    "    "
   ]
  },
  {
   "cell_type": "markdown",
   "metadata": {},
   "source": [
    "# **Question + Answer** "
   ]
  },
  {
   "cell_type": "code",
   "execution_count": 23,
   "metadata": {},
   "outputs": [
    {
     "name": "stdout",
     "output_type": "stream",
     "text": [
      "Processed batch 1/4 in 51.16 seconds\n",
      "Processed batch 2/4 in 19.14 seconds\n",
      "Processed batch 3/4 in 6.59 seconds\n",
      "Processed batch 4/4 in 2.78 seconds\n",
      "Added: 349 FAQs in 79.67 seconds, Peak Memory: 6355.68 MB\n"
     ]
    }
   ],
   "source": [
    "moveEmbedding(faq_data)"
   ]
  },
  {
   "cell_type": "code",
   "execution_count": 24,
   "metadata": {},
   "outputs": [],
   "source": [
    "client = QdrantClient(\n",
    "    url=url,\n",
    ")\n",
    "qdrant = Qdrant(\n",
    "    client,\n",
    "    embeddings=embeddings,\n",
    "    collection_name=collection_name,\n",
    "    distance_strategy=distance,\n",
    ")\n"
   ]
  },
  {
   "cell_type": "code",
   "execution_count": 25,
   "metadata": {},
   "outputs": [
    {
     "name": "stdout",
     "output_type": "stream",
     "text": [
      "0.8152 | Alamat Siloam Hospitals Putera Bahagia dimana?\n",
      "0.7729 | Alamat Siloam Hospitals Makassar dimana?\n",
      "0.7695 | Di mana ada lokasi Rumah Sakit Siloam?\n",
      "0.7602 | Alamat Siloam Hospitals Buton dimana?\n",
      "0.7588 | Alamat Siloam Hospitals Labuan Bajo dimana?\n",
      "0.7584 | Rumah sakit Siloam di Tangerang apa saja?\n",
      "0.7536 | Alamat Siloam Hospitals Sentosa dimana?\n",
      "0.7476 | Alamat Siloam Hospitals Medan dimana?\n",
      "0.7469 | Rumah sakit Siloam Hospitals Bangka Belitung punya nama lain apa?\n",
      "0.7452 | Alamat Siloam Hospitals Yogyakarta dimana?\n",
      "0.7447 | Rumah sakit Siloam Hospitals Medan punya nama lain apa?\n",
      "0.7440 | Alamat Siloam Hospitals Banjarmasin dimana?\n",
      "0.7424 | Rumah sakit Siloam Hospitals Bekasi Timur punya nama lain apa?\n",
      "0.7402 | Alamat Siloam Hospitals Lubuk Linggau dimana?\n",
      "0.7389 | Alamat Siloam Hospitals Bekasi Sepanjang Jaya dimana?\n",
      "0.7378 | Apa misi Siloam Hospitals?\n",
      "0.7375 | Alamat Siloam Hospitals Jember dimana?\n",
      "0.7370 | Rumah sakit Siloam Hospitals Putera Bahagia punya nama lain apa?\n",
      "0.7359 | Alamat Siloam Hospitals Bogor dimana?\n",
      "0.7358 | Alamat Siloam Hospitals TB Simatupang dimana?\n"
     ]
    }
   ],
   "source": [
    "doc = qdrant.similarity_search_with_score('Di mana ada lokasi Rumah Sakit Siloam', score_threshold=0.1, k=20)\n",
    "for document, score in doc:\n",
    "    print(f\"{score:.4f} | {document.metadata['question']}\")\n"
   ]
  },
  {
   "cell_type": "code",
   "execution_count": 26,
   "metadata": {},
   "outputs": [
    {
     "data": {
      "text/html": [
       "<div>\n",
       "<style scoped>\n",
       "    .dataframe tbody tr th:only-of-type {\n",
       "        vertical-align: middle;\n",
       "    }\n",
       "\n",
       "    .dataframe tbody tr th {\n",
       "        vertical-align: top;\n",
       "    }\n",
       "\n",
       "    .dataframe thead th {\n",
       "        text-align: right;\n",
       "    }\n",
       "</style>\n",
       "<table border=\"1\" class=\"dataframe\">\n",
       "  <thead>\n",
       "    <tr style=\"text-align: right;\">\n",
       "      <th></th>\n",
       "      <th>query</th>\n",
       "      <th>result</th>\n",
       "      <th>score</th>\n",
       "    </tr>\n",
       "  </thead>\n",
       "  <tbody>\n",
       "    <tr>\n",
       "      <th>0</th>\n",
       "      <td>Fasilitas apa yang dimiliki pusat keunggulan R...</td>\n",
       "      <td>Apa visi Siloam Hospitals?</td>\n",
       "      <td>0.650053</td>\n",
       "    </tr>\n",
       "    <tr>\n",
       "      <th>1</th>\n",
       "      <td>siloam ada dimana saja</td>\n",
       "      <td>Apa nama lain Siloam Kuta?</td>\n",
       "      <td>0.521162</td>\n",
       "    </tr>\n",
       "    <tr>\n",
       "      <th>2</th>\n",
       "      <td>test</td>\n",
       "      <td>Berapa lama hasil dari MCU / Medical Check Up ...</td>\n",
       "      <td>0.378687</td>\n",
       "    </tr>\n",
       "  </tbody>\n",
       "</table>\n",
       "</div>"
      ],
      "text/plain": [
       "                                               query  \\\n",
       "0  Fasilitas apa yang dimiliki pusat keunggulan R...   \n",
       "1                             siloam ada dimana saja   \n",
       "2                                               test   \n",
       "\n",
       "                                              result     score  \n",
       "0                         Apa visi Siloam Hospitals?  0.650053  \n",
       "1                         Apa nama lain Siloam Kuta?  0.521162  \n",
       "2  Berapa lama hasil dari MCU / Medical Check Up ...  0.378687  "
      ]
     },
     "metadata": {},
     "output_type": "display_data"
    }
   ],
   "source": [
    "# With question + answer + category.\n",
    "results = []\n",
    "for t in test_list:\n",
    "    [status, data] = testing(qdrant, t[\"query\"], t[\"expected\"])\n",
    "    if(status == False):\n",
    "        _data = {\n",
    "            \"query\": t[\"query\"],\n",
    "            \"result\": data[0].metadata['question'] if data != \"No result\" else \"No result\",\n",
    "            \"score\": data[1] if data != \"No result\" else \"No result\"\n",
    "        }\n",
    "        results.append(_data)\n",
    "with pd.option_context('display.max_rows', None, 'display.max_columns', None):\n",
    "    df = pd.DataFrame(data=results)\n",
    "    display(df)\n",
    "    "
   ]
  },
  {
   "cell_type": "markdown",
   "metadata": {},
   "source": [
    "# **query: Question + passage: Answer** "
   ]
  },
  {
   "cell_type": "code",
   "execution_count": 12,
   "metadata": {},
   "outputs": [
    {
     "name": "stdout",
     "output_type": "stream",
     "text": [
      "Processed batch 1/4 in 51.67 seconds\n",
      "Processed batch 2/4 in 19.55 seconds\n",
      "Processed batch 3/4 in 7.29 seconds\n",
      "Processed batch 4/4 in 3.03 seconds\n",
      "Added: 349 FAQs in 81.55 seconds, Peak Memory: 4455.13 MB\n"
     ]
    }
   ],
   "source": [
    "moveEmbedding(faq_data)"
   ]
  },
  {
   "cell_type": "code",
   "execution_count": 13,
   "metadata": {},
   "outputs": [
    {
     "name": "stderr",
     "output_type": "stream",
     "text": [
      "/tmp/ipykernel_45598/2148830083.py:4: LangChainDeprecationWarning: The class `Qdrant` was deprecated in LangChain 0.1.2 and will be removed in 0.5.0. Use :class:`~QdrantVectorStore` instead.\n",
      "  qdrant = Qdrant(\n"
     ]
    }
   ],
   "source": [
    "client = QdrantClient(\n",
    "    url=url,\n",
    ")\n",
    "qdrant = Qdrant(\n",
    "    client,\n",
    "    embeddings=embeddings,\n",
    "    collection_name=collection_name,\n",
    "    distance_strategy=distance,\n",
    ")\n"
   ]
  },
  {
   "cell_type": "code",
   "execution_count": 14,
   "metadata": {},
   "outputs": [
    {
     "name": "stdout",
     "output_type": "stream",
     "text": [
      "0.8291 | Alamat Siloam Hospitals Putera Bahagia dimana?\n",
      "0.7610 | Di mana ada lokasi Rumah Sakit Siloam?\n",
      "0.7573 | Alamat Siloam Hospitals Labuan Bajo dimana?\n",
      "0.7409 | Alamat Siloam Hospitals Makassar dimana?\n",
      "0.7383 | Alamat Siloam Hospitals Buton dimana?\n",
      "0.7254 | Alamat Siloam Hospitals Banjarmasin dimana?\n",
      "0.7123 | Alamat Siloam Hospitals Palangkaraya dimana?\n",
      "0.7117 | Rumah sakit Siloam di Tangerang apa saja?\n",
      "0.7105 | Alamat Siloam Hospitals Sentosa dimana?\n",
      "0.7054 | Alamat Siloam Hospitals Purwakarta dimana?\n",
      "0.7005 | Alamat Siloam Hospitals Lubuk Linggau dimana?\n",
      "0.6994 | Alamat MRCCC Siloam Hospitals Semanggi dimana?\n",
      "0.6979 | Alamat Siloam Hospitals Jember dimana?\n",
      "0.6944 | Apa misi Siloam Hospitals?\n",
      "0.6934 | Apa visi Siloam Hospitals?\n",
      "0.6931 | Alamat Siloam Hospitals Bekasi Sepanjang Jaya dimana?\n",
      "0.6924 | Alamat Siloam Hospitals Semarang dimana?\n",
      "0.6914 | Alamat Siloam Hospitals Surabaya dimana?\n",
      "0.6914 | Alamat Siloam Hospitals Bekasi Timur dimana?\n",
      "0.6911 | Rumah sakit Siloam Hospitals Medan punya nama lain apa?\n"
     ]
    }
   ],
   "source": [
    "doc = qdrant.similarity_search_with_score('Di mana ada lokasi Rumah Sakit Siloam', score_threshold=0.1, k=20)\n",
    "for document, score in doc:\n",
    "    print(f\"{score:.4f} | {document.metadata['question']}\")\n"
   ]
  },
  {
   "cell_type": "code",
   "execution_count": null,
   "metadata": {},
   "outputs": [
    {
     "data": {
      "text/html": [
       "<div>\n",
       "<style scoped>\n",
       "    .dataframe tbody tr th:only-of-type {\n",
       "        vertical-align: middle;\n",
       "    }\n",
       "\n",
       "    .dataframe tbody tr th {\n",
       "        vertical-align: top;\n",
       "    }\n",
       "\n",
       "    .dataframe thead th {\n",
       "        text-align: right;\n",
       "    }\n",
       "</style>\n",
       "<table border=\"1\" class=\"dataframe\">\n",
       "  <thead>\n",
       "    <tr style=\"text-align: right;\">\n",
       "      <th></th>\n",
       "      <th>query</th>\n",
       "      <th>result</th>\n",
       "      <th>score</th>\n",
       "    </tr>\n",
       "  </thead>\n",
       "  <tbody>\n",
       "    <tr>\n",
       "      <th>0</th>\n",
       "      <td>Fasilitas apa yang dimiliki pusat keunggulan R...</td>\n",
       "      <td>Apa misi Siloam Hospitals?</td>\n",
       "      <td>0.625438</td>\n",
       "    </tr>\n",
       "    <tr>\n",
       "      <th>1</th>\n",
       "      <td>Rumah Sakit Siloam mana saja yang menerima pas...</td>\n",
       "      <td>Data apa yang dibutuhkan saat menggunakan BPJS...</td>\n",
       "      <td>0.650620</td>\n",
       "    </tr>\n",
       "    <tr>\n",
       "      <th>2</th>\n",
       "      <td>siloam ada dimana saja</td>\n",
       "      <td>Apa nama lain Siloam Cempaka Putih?</td>\n",
       "      <td>0.386341</td>\n",
       "    </tr>\n",
       "    <tr>\n",
       "      <th>3</th>\n",
       "      <td>test</td>\n",
       "      <td>Berapa lama hasil dari MCU / Medical Check Up ...</td>\n",
       "      <td>0.421545</td>\n",
       "    </tr>\n",
       "  </tbody>\n",
       "</table>\n",
       "</div>"
      ],
      "text/plain": [
       "                                               query  \\\n",
       "0  Fasilitas apa yang dimiliki pusat keunggulan R...   \n",
       "1  Rumah Sakit Siloam mana saja yang menerima pas...   \n",
       "2                             siloam ada dimana saja   \n",
       "3                                               test   \n",
       "\n",
       "                                              result     score  \n",
       "0                         Apa misi Siloam Hospitals?  0.625438  \n",
       "1  Data apa yang dibutuhkan saat menggunakan BPJS...  0.650620  \n",
       "2                Apa nama lain Siloam Cempaka Putih?  0.386341  \n",
       "3  Berapa lama hasil dari MCU / Medical Check Up ...  0.421545  "
      ]
     },
     "metadata": {},
     "output_type": "display_data"
    },
    {
     "ename": "",
     "evalue": "",
     "output_type": "error",
     "traceback": [
      "\u001b[1;31mThe Kernel crashed while executing code in the current cell or a previous cell. \n",
      "\u001b[1;31mPlease review the code in the cell(s) to identify a possible cause of the failure. \n",
      "\u001b[1;31mClick <a href='https://aka.ms/vscodeJupyterKernelCrash'>here</a> for more info. \n",
      "\u001b[1;31mView Jupyter <a href='command:jupyter.viewOutput'>log</a> for further details."
     ]
    }
   ],
   "source": [
    "# With question + answer + category.\n",
    "results = []\n",
    "for t in test_list:\n",
    "    [status, data] = testing(qdrant, t[\"query\"], t[\"expected\"])\n",
    "    if(status == False):\n",
    "        _data = {\n",
    "            \"query\": t[\"query\"],\n",
    "            \"result\": data[0].metadata['question'] if data != \"No result\" else \"No result\",\n",
    "            \"score\": data[1] if data != \"No result\" else \"No result\"\n",
    "        }\n",
    "        results.append(_data)\n",
    "with pd.option_context('display.max_rows', None, 'display.max_columns', None):\n",
    "    df = pd.DataFrame(data=results)\n",
    "    display(df)\n",
    "    "
   ]
  },
  {
   "cell_type": "code",
   "execution_count": null,
   "metadata": {},
   "outputs": [],
   "source": []
  }
 ],
 "metadata": {
  "kernelspec": {
   "display_name": "venv",
   "language": "python",
   "name": "python3"
  },
  "language_info": {
   "codemirror_mode": {
    "name": "ipython",
    "version": 3
   },
   "file_extension": ".py",
   "mimetype": "text/x-python",
   "name": "python",
   "nbconvert_exporter": "python",
   "pygments_lexer": "ipython3",
   "version": "3.12.1"
  }
 },
 "nbformat": 4,
 "nbformat_minor": 2
}
