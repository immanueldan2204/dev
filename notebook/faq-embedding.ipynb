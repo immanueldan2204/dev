{
 "cells": [
  {
   "cell_type": "markdown",
   "metadata": {},
   "source": [
    "# **Framework, Library, and API Key**"
   ]
  },
  {
   "cell_type": "code",
   "execution_count": 1,
   "metadata": {},
   "outputs": [
    {
     "name": "stderr",
     "output_type": "stream",
     "text": [
      "/workspaces/dev/venv/lib/python3.12/site-packages/tqdm/auto.py:21: TqdmWarning: IProgress not found. Please update jupyter and ipywidgets. See https://ipywidgets.readthedocs.io/en/stable/user_install.html\n",
      "  from .autonotebook import tqdm as notebook_tqdm\n"
     ]
    }
   ],
   "source": [
    "import pandas as pd\n",
    "import json\n",
    "import time\n",
    "import resource \n",
    "\n",
    "from langchain_community.embeddings.fastembed import FastEmbedEmbeddings\n",
    "from langchain_qdrant import Qdrant\n",
    "\n",
    "import qdrant_client\n",
    "from qdrant_client import QdrantClient\n",
    "from qdrant_client.models import PointStruct, VectorParams, Distance\n"
   ]
  },
  {
   "cell_type": "markdown",
   "metadata": {},
   "source": [
    "# **Dataset**"
   ]
  },
  {
   "cell_type": "code",
   "execution_count": 2,
   "metadata": {},
   "outputs": [
    {
     "data": {
      "text/plain": [
       "{'question': 'Di mana ada lokasi Rumah Sakit Siloam?',\n",
       " 'answer': 'Ada 40 Rumah Sakit modern yang terdiri dari 13 Rumah Sakit di Jabodetabek dan 27 rumah sakit yang tersebar di Jawa, Sumatera, Kalimantan, Sulawesi, serta Bali dan Nusa Tenggara.',\n",
       " 'category': 'FAQ Website'}"
      ]
     },
     "execution_count": 2,
     "metadata": {},
     "output_type": "execute_result"
    }
   ],
   "source": [
    "# Load FAQ json.\n",
    "with open(\"../data/full_faq.json\", \"r\", encoding=\"utf-8\") as file:\n",
    "    faq_data = json.load(file)\n",
    "\n",
    "faq_data[0]\n"
   ]
  },
  {
   "cell_type": "markdown",
   "metadata": {},
   "source": [
    "# **Embedding Model**"
   ]
  },
  {
   "cell_type": "markdown",
   "metadata": {},
   "source": [
    "# **sentence-transformers/paraphrase-multilingual-mpnet-base-v2**"
   ]
  },
  {
   "cell_type": "code",
   "execution_count": 5,
   "metadata": {},
   "outputs": [],
   "source": [
    "# Initiate FastEmbedEmbeddings\n",
    "embeddings = FastEmbedEmbeddings(\n",
    "    cache_dir=\"../embedding_cache\",\n",
    "    model_name=\"sentence-transformers/paraphrase-multilingual-mpnet-base-v2\"\n",
    ")\n",
    "\n",
    "url = \"http://localhost:6333\"\n",
    "collection_name = \"faq-question\"\n",
    "distance = Distance.COSINE\n",
    "dimension = 768\n"
   ]
  },
  {
   "cell_type": "code",
   "execution_count": 16,
   "metadata": {},
   "outputs": [
    {
     "name": "stdout",
     "output_type": "stream",
     "text": [
      "collections=[CollectionDescription(name='faq-question')]\n"
     ]
    }
   ],
   "source": [
    "# Initiate client.\n",
    "client = QdrantClient(\"localhost\", port=6333)\n",
    "\n",
    "# Show collections.\n",
    "collections = client.get_collections()\n",
    "print(collections)\n"
   ]
  },
  {
   "cell_type": "code",
   "execution_count": null,
   "metadata": {},
   "outputs": [],
   "source": [
    "# # Show collection details.\n",
    "# collection_info = client.get_collection(collection_name=\"test_faq_openai\")\n",
    "# print(collection_info)\n"
   ]
  },
  {
   "cell_type": "code",
   "execution_count": 6,
   "metadata": {},
   "outputs": [
    {
     "data": {
      "text/plain": [
       "True"
      ]
     },
     "execution_count": 6,
     "metadata": {},
     "output_type": "execute_result"
    }
   ],
   "source": [
    "# # Delete collection.\n",
    "# client.delete_collection(collection_name=\"faq-question\")\n",
    "# client.delete_collection(collection_name=\"faq-question-answer\")\n",
    "# client.delete_collection(collection_name=\"faq-query-passage\")\n"
   ]
  },
  {
   "cell_type": "code",
   "execution_count": 8,
   "metadata": {},
   "outputs": [],
   "source": [
    "def moveEmbedding(faq_data, batch_size=100):\n",
    "    \"\"\"\n",
    "    Load FAQ data from a JSON-like list of dictionaries and upsert embeddings into Qdrant,\n",
    "    processing the data in batches.\n",
    "    \n",
    "    Each FAQ should have the following keys: 'question', 'answer', and 'category'.\n",
    "    The text for embedding is constructed by concatenating these fields with a newline.\n",
    "    \"\"\"\n",
    "    client = qdrant_client.QdrantClient(url=url)\n",
    "    \n",
    "    # Create collection if it doesn't exist.\n",
    "    if not client.collection_exists(collection_name=collection_name):\n",
    "        client.create_collection(\n",
    "            collection_name=collection_name,\n",
    "            vectors_config=VectorParams(size=dimension, distance=distance),\n",
    "        )\n",
    "    \n",
    "    total_batches = (len(faq_data) - 1) // batch_size + 1\n",
    "    overall_start_time = time.time()\n",
    "    \n",
    "    for batch_num in range(total_batches):\n",
    "        batch_start_time = time.time()\n",
    "        start = batch_num * batch_size\n",
    "        end = start + batch_size\n",
    "        batch_faq = faq_data[start:end]\n",
    "        \n",
    "        texts = []\n",
    "        ids = []\n",
    "        payloads = []\n",
    "        \n",
    "        for i, faq in enumerate(batch_faq, start=start):\n",
    "            # Concatenate question and answer with a newline delimiter.\n",
    "            text = faq['question']\n",
    "            texts.append(text)\n",
    "            ids.append(i)\n",
    "            payloads.append({\n",
    "                \"page_content\": text,\n",
    "                \"metadata\": {\n",
    "                    \"question\": faq['question'],\n",
    "                    \"answer\": faq['answer'],\n",
    "                    \"category\": faq['category']\n",
    "                }\n",
    "            })\n",
    "        \n",
    "        # Batch embed the texts.\n",
    "        batch_embeddings = embeddings.embed_documents(texts)\n",
    "        \n",
    "        points = []\n",
    "        for j, emb in enumerate(batch_embeddings):\n",
    "            points.append(\n",
    "                PointStruct(\n",
    "                    id=ids[j],\n",
    "                    vector=emb,\n",
    "                    payload=payloads[j]\n",
    "                )\n",
    "            )\n",
    "        \n",
    "        # Upsert the current batch of points into Qdrant.\n",
    "        client.upsert(\n",
    "            collection_name=collection_name,\n",
    "            points=points\n",
    "        )\n",
    "        \n",
    "        batch_end_time = time.time()\n",
    "        batch_elapsed = batch_end_time - batch_start_time\n",
    "        print(f\"Processed batch {batch_num+1}/{total_batches} in {batch_elapsed:.2f} seconds\")\n",
    "    \n",
    "    overall_end_time = time.time()\n",
    "    total_elapsed = overall_end_time - overall_start_time\n",
    "\n",
    "    # Calculate peak memory usage (in MB).\n",
    "    peak_memory = resource.getrusage(resource.RUSAGE_SELF).ru_maxrss / 1024\n",
    "    print(f\"Added: {len(faq_data)} FAQs in {total_elapsed:.2f} seconds, Peak Memory: {peak_memory:.2f} MB\")\n"
   ]
  },
  {
   "cell_type": "code",
   "execution_count": 9,
   "metadata": {},
   "outputs": [
    {
     "name": "stdout",
     "output_type": "stream",
     "text": [
      "Processed batch 1/4 in 4.36 seconds\n",
      "Processed batch 2/4 in 2.44 seconds\n",
      "Processed batch 3/4 in 2.11 seconds\n",
      "Processed batch 4/4 in 0.92 seconds\n",
      "Added: 349 FAQs in 9.83 seconds, Peak Memory: 3910.23 MB\n"
     ]
    }
   ],
   "source": [
    "moveEmbedding(faq_data)"
   ]
  },
  {
   "cell_type": "code",
   "execution_count": 10,
   "metadata": {},
   "outputs": [
    {
     "name": "stderr",
     "output_type": "stream",
     "text": [
      "/tmp/ipykernel_9440/2148830083.py:4: LangChainDeprecationWarning: The class `Qdrant` was deprecated in LangChain 0.1.2 and will be removed in 0.5.0. Use :class:`~QdrantVectorStore` instead.\n",
      "  qdrant = Qdrant(\n"
     ]
    }
   ],
   "source": [
    "client = QdrantClient(\n",
    "    url=url,\n",
    ")\n",
    "qdrant = Qdrant(\n",
    "    client,\n",
    "    embeddings=embeddings,\n",
    "    collection_name=collection_name,\n",
    "    distance_strategy=distance,\n",
    ")\n"
   ]
  },
  {
   "cell_type": "code",
   "execution_count": 11,
   "metadata": {},
   "outputs": [
    {
     "name": "stdout",
     "output_type": "stream",
     "text": [
      "0.9851 | Di mana ada lokasi Rumah Sakit Siloam?\n",
      "0.9205 | Alamat Siloam Hospitals Buton dimana?\n",
      "0.9033 | Alamat Siloam Hospitals Kupang dimana?\n",
      "0.8978 | Alamat Siloam Hospitals Medan dimana?\n",
      "0.8948 | Alamat Siloam Hospitals Bangka Belitung dimana?\n",
      "0.8934 | Alamat Siloam Hospitals Paal Dua dimana?\n",
      "0.8925 | Alamat Siloam Hospitals Labuan Bajo dimana?\n",
      "0.8875 | Rumah sakit Siloam di Tangerang apa saja?\n",
      "0.8851 | Alamat Siloam Hospitals Kelapa Dua dimana?\n",
      "0.8809 | Alamat Siloam Hospitals Agora Cempaka Putih dimana?\n",
      "0.8801 | Alamat Siloam Hospitals Jember dimana?\n",
      "0.8789 | Alamat Siloam Hospitals Mampang dimana?\n",
      "0.8766 | Alamat Siloam Hospitals Lubuk Linggau dimana?\n",
      "0.8721 | Alamat Siloam Hospitals Bekasi Timur dimana?\n",
      "0.8649 | Alamat Siloam Hospitals Bogor dimana?\n",
      "0.8615 | Alamat Siloam Hospitals Ambon dimana?\n",
      "0.8597 | Alamat MRCCC Siloam Hospitals Semanggi dimana?\n",
      "0.8589 | Alamat Siloam Hospitals Sentosa dimana?\n",
      "0.8542 | Alamat Siloam Hospitals Mataram dimana?\n",
      "0.8536 | Alamat Siloam Hospitals Balikpapan dimana?\n"
     ]
    }
   ],
   "source": [
    "doc = qdrant.similarity_search_with_score('Di mana ada lokasi Rumah Sakit Siloam', score_threshold=0.1, k=20)\n",
    "for document, score in doc:\n",
    "    print(f\"{score:.4f} | {document.metadata['question']}\")\n"
   ]
  },
  {
   "cell_type": "code",
   "execution_count": 12,
   "metadata": {},
   "outputs": [
    {
     "name": "stdout",
     "output_type": "stream",
     "text": [
      "{'query': 'Di mana ada lokasi Rumah Sakit Siloam?', 'expected': 'Di mana ada lokasi Rumah Sakit Siloam?'}\n"
     ]
    }
   ],
   "source": [
    "test_list = [{'query': x['question'], 'expected': x['question']} for x in faq_data]\n",
    "print(test_list[0])"
   ]
  },
  {
   "cell_type": "code",
   "execution_count": 13,
   "metadata": {},
   "outputs": [],
   "source": [
    "test_list = test_list + [\n",
    "    {\n",
    "        \"query\": \"siloam ada dimana saja\",\n",
    "        \"expected\": \"Di mana ada lokasi Rumah Sakit Siloam?\"\n",
    "    },\n",
    "    {\n",
    "        \"query\": \"jam buka mcu\",\n",
    "        \"expected\": \"Jam buka MCU / Medical Check Up?\"\n",
    "    },\n",
    "    {\n",
    "        \"query\": \"layanan kesehatan di rumah\",\n",
    "        \"expected\": \"Apa itu Siloam at Home? Apakah Siloam memberikan layanan kesehatan di rumah atau Homecare?\"\n",
    "    },\n",
    "    {\n",
    "        \"query\": \"cek obat beli di siloam dari aplikasi\",\n",
    "        \"expected\": \"Halo saya mau cek obat yang saya beli dari Siloam, bisakah dari aplikasi MySiloam?\"\n",
    "    },\n",
    "    {\n",
    "        \"query\": \"asuransi kerjasa sama dengan siloam\",\n",
    "        \"expected\": \"Asuransi apa saja yang bekerja sama dengan Siloam?\"\n",
    "    },\n",
    "    {\n",
    "        \"query\": \"test\",\n",
    "        \"expected\": \"test\"\n",
    "    },\n",
    "    \n",
    "]\n"
   ]
  },
  {
   "cell_type": "code",
   "execution_count": 14,
   "metadata": {},
   "outputs": [],
   "source": [
    "def testing(qdrant, q, expected):\n",
    "    doc = qdrant.similarity_search_with_score(q, score_threshold=0.1, k=20)\n",
    "    i = 0\n",
    "    for d in doc:\n",
    "        if(d[0].metadata[\"question\"] == expected):\n",
    "            return [ True, d]\n",
    "        i += 1\n",
    "    if len(doc) == 0:\n",
    "        return [False, \"No result\"]\n",
    "    return [False, doc[0]]\n"
   ]
  },
  {
   "cell_type": "code",
   "execution_count": 15,
   "metadata": {},
   "outputs": [
    {
     "data": {
      "text/html": [
       "<div>\n",
       "<style scoped>\n",
       "    .dataframe tbody tr th:only-of-type {\n",
       "        vertical-align: middle;\n",
       "    }\n",
       "\n",
       "    .dataframe tbody tr th {\n",
       "        vertical-align: top;\n",
       "    }\n",
       "\n",
       "    .dataframe thead th {\n",
       "        text-align: right;\n",
       "    }\n",
       "</style>\n",
       "<table border=\"1\" class=\"dataframe\">\n",
       "  <thead>\n",
       "    <tr style=\"text-align: right;\">\n",
       "      <th></th>\n",
       "      <th>query</th>\n",
       "      <th>result</th>\n",
       "      <th>score</th>\n",
       "    </tr>\n",
       "  </thead>\n",
       "  <tbody>\n",
       "    <tr>\n",
       "      <th>0</th>\n",
       "      <td>test</td>\n",
       "      <td>Berapa lama hasil dari MCU / Medical Check Up ...</td>\n",
       "      <td>0.52157</td>\n",
       "    </tr>\n",
       "  </tbody>\n",
       "</table>\n",
       "</div>"
      ],
      "text/plain": [
       "  query                                             result    score\n",
       "0  test  Berapa lama hasil dari MCU / Medical Check Up ...  0.52157"
      ]
     },
     "metadata": {},
     "output_type": "display_data"
    }
   ],
   "source": [
    "# With question only.\n",
    "results = []\n",
    "for t in test_list:\n",
    "    [status, data] = testing(qdrant, t[\"query\"], t[\"expected\"])\n",
    "    if(status == False):\n",
    "        _data = {\n",
    "            \"query\": t[\"query\"],\n",
    "            \"result\": data[0].metadata['question'] if data != \"No result\" else \"No result\",\n",
    "            \"score\": data[1] if data != \"No result\" else \"No result\"\n",
    "        }\n",
    "        results.append(_data)\n",
    "with pd.option_context('display.max_rows', None, 'display.max_columns', None):\n",
    "    df = pd.DataFrame(data=results)\n",
    "    display(df)\n",
    "    "
   ]
  }
 ],
 "metadata": {
  "kernelspec": {
   "display_name": "venv",
   "language": "python",
   "name": "python3"
  },
  "language_info": {
   "codemirror_mode": {
    "name": "ipython",
    "version": 3
   },
   "file_extension": ".py",
   "mimetype": "text/x-python",
   "name": "python",
   "nbconvert_exporter": "python",
   "pygments_lexer": "ipython3",
   "version": "3.12.1"
  }
 },
 "nbformat": 4,
 "nbformat_minor": 2
}
