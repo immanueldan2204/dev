{
 "cells": [
  {
   "cell_type": "code",
   "execution_count": 2,
   "metadata": {},
   "outputs": [
    {
     "data": {
      "text/plain": [
       "True"
      ]
     },
     "execution_count": 2,
     "metadata": {},
     "output_type": "execute_result"
    }
   ],
   "source": [
    "import pandas as pd\n",
    "import json\n",
    "\n",
    "from langchain_openai import OpenAIEmbeddings\n",
    "from langchain_qdrant import Qdrant\n",
    "\n",
    "import qdrant_client\n",
    "from qdrant_client import QdrantClient\n",
    "from qdrant_client.models import PointStruct, VectorParams, Distance\n",
    "\n",
    "# Load API key.\n",
    "from dotenv import load_dotenv\n",
    "load_dotenv()\n"
   ]
  },
  {
   "cell_type": "code",
   "execution_count": 3,
   "metadata": {},
   "outputs": [
    {
     "name": "stdout",
     "output_type": "stream",
     "text": [
      "\"SalesItemId\";\"SalesItemCode\";\"SalesItemName\";\"ActiveIngredientsName\";\"Formularium\";\"OrganizationId\"\n",
      "\n",
      "\"19000000062\";\"MCD00062\";\"2 MTM BODY LOTION (DR MUTTY)\";\" KOSMETIK\";\"NORMAL\";\"19\"\n",
      "\n",
      "\"100000000146092\";\"KJD00002\";\"2-4 (ZWAVEL ZALF) 30GRAM - N/A\";\" SULFUR, SALICYLIC ACID\";\"NORMAL\";\"3,31\"\n",
      "\n",
      "\"100000000146091\";\"KJD00001\";\"2-4 ZALF /GRAM - N/A\";\" SULFUR, SALICYLIC ACID\";\"NORMAL\";\"3,5,31\"\n",
      "\n",
      "\"100000000142499\";\"DT00146R\";\"3TC 150MG TAB\";\" LAMIVUDINE\";\"NORMAL\";\"3,17,27,32,43\"\n",
      "\n"
     ]
    }
   ],
   "source": [
    "with open('salesItem.csv') as f:\n",
    "    for _ in range(5):\n",
    "        print(f.readline())\n"
   ]
  },
  {
   "cell_type": "code",
   "execution_count": 4,
   "metadata": {},
   "outputs": [
    {
     "data": {
      "text/html": [
       "<div>\n",
       "<style scoped>\n",
       "    .dataframe tbody tr th:only-of-type {\n",
       "        vertical-align: middle;\n",
       "    }\n",
       "\n",
       "    .dataframe tbody tr th {\n",
       "        vertical-align: top;\n",
       "    }\n",
       "\n",
       "    .dataframe thead th {\n",
       "        text-align: right;\n",
       "    }\n",
       "</style>\n",
       "<table border=\"1\" class=\"dataframe\">\n",
       "  <thead>\n",
       "    <tr style=\"text-align: right;\">\n",
       "      <th></th>\n",
       "      <th>SalesItemId</th>\n",
       "      <th>SalesItemCode</th>\n",
       "      <th>SalesItemName</th>\n",
       "      <th>ActiveIngredientsName</th>\n",
       "      <th>Formularium</th>\n",
       "      <th>OrganizationId</th>\n",
       "    </tr>\n",
       "  </thead>\n",
       "  <tbody>\n",
       "    <tr>\n",
       "      <th>0</th>\n",
       "      <td>19000000062</td>\n",
       "      <td>MCD00062</td>\n",
       "      <td>2 MTM BODY LOTION (DR MUTTY)</td>\n",
       "      <td>KOSMETIK</td>\n",
       "      <td>NORMAL</td>\n",
       "      <td>19</td>\n",
       "    </tr>\n",
       "    <tr>\n",
       "      <th>1</th>\n",
       "      <td>100000000146092</td>\n",
       "      <td>KJD00002</td>\n",
       "      <td>2-4 (ZWAVEL ZALF) 30GRAM - N/A</td>\n",
       "      <td>SULFUR, SALICYLIC ACID</td>\n",
       "      <td>NORMAL</td>\n",
       "      <td>3,31</td>\n",
       "    </tr>\n",
       "    <tr>\n",
       "      <th>2</th>\n",
       "      <td>100000000146091</td>\n",
       "      <td>KJD00001</td>\n",
       "      <td>2-4 ZALF /GRAM - N/A</td>\n",
       "      <td>SULFUR, SALICYLIC ACID</td>\n",
       "      <td>NORMAL</td>\n",
       "      <td>3,5,31</td>\n",
       "    </tr>\n",
       "    <tr>\n",
       "      <th>3</th>\n",
       "      <td>100000000142499</td>\n",
       "      <td>DT00146R</td>\n",
       "      <td>3TC 150MG TAB</td>\n",
       "      <td>LAMIVUDINE</td>\n",
       "      <td>NORMAL</td>\n",
       "      <td>3,17,27,32,43</td>\n",
       "    </tr>\n",
       "    <tr>\n",
       "      <th>4</th>\n",
       "      <td>117701</td>\n",
       "      <td>LVD00001</td>\n",
       "      <td>3TC-HBV 100MG TAB</td>\n",
       "      <td>LAMIVUDINE</td>\n",
       "      <td>NORMAL</td>\n",
       "      <td>2,3,4,5,6,10,14,15,17,19,32,37,39</td>\n",
       "    </tr>\n",
       "  </tbody>\n",
       "</table>\n",
       "</div>"
      ],
      "text/plain": [
       "       SalesItemId SalesItemCode                   SalesItemName  \\\n",
       "0      19000000062      MCD00062    2 MTM BODY LOTION (DR MUTTY)   \n",
       "1  100000000146092      KJD00002  2-4 (ZWAVEL ZALF) 30GRAM - N/A   \n",
       "2  100000000146091      KJD00001            2-4 ZALF /GRAM - N/A   \n",
       "3  100000000142499      DT00146R                   3TC 150MG TAB   \n",
       "4           117701      LVD00001               3TC-HBV 100MG TAB   \n",
       "\n",
       "     ActiveIngredientsName Formularium                     OrganizationId  \n",
       "0                 KOSMETIK      NORMAL                                 19  \n",
       "1   SULFUR, SALICYLIC ACID      NORMAL                               3,31  \n",
       "2   SULFUR, SALICYLIC ACID      NORMAL                             3,5,31  \n",
       "3               LAMIVUDINE      NORMAL                      3,17,27,32,43  \n",
       "4               LAMIVUDINE      NORMAL  2,3,4,5,6,10,14,15,17,19,32,37,39  "
      ]
     },
     "execution_count": 4,
     "metadata": {},
     "output_type": "execute_result"
    }
   ],
   "source": [
    "PATH = 'salesItem.csv'\n",
    "df = pd.read_csv(PATH, sep=';')\n",
    "df.head()\n"
   ]
  },
  {
   "cell_type": "code",
   "execution_count": 5,
   "metadata": {},
   "outputs": [
    {
     "data": {
      "text/plain": [
       "Formularium\n",
       "NORMAL      6276\n",
       "BPJS        2856\n",
       "INHEALTH    1805\n",
       "Name: count, dtype: int64"
      ]
     },
     "execution_count": 5,
     "metadata": {},
     "output_type": "execute_result"
    }
   ],
   "source": [
    "df.Formularium.value_counts()"
   ]
  },
  {
   "cell_type": "code",
   "execution_count": 39,
   "metadata": {},
   "outputs": [
    {
     "name": "stdout",
     "output_type": "stream",
     "text": [
      "<class 'pandas.core.frame.DataFrame'>\n",
      "RangeIndex: 10937 entries, 0 to 10936\n",
      "Data columns (total 6 columns):\n",
      " #   Column                 Non-Null Count  Dtype \n",
      "---  ------                 --------------  ----- \n",
      " 0   SalesItemId            10937 non-null  int64 \n",
      " 1   SalesItemCode          10937 non-null  object\n",
      " 2   SalesItemName          10937 non-null  object\n",
      " 3   ActiveIngredientsName  7257 non-null   object\n",
      " 4   Formularium            10937 non-null  object\n",
      " 5   OrganizationId         10937 non-null  object\n",
      "dtypes: int64(1), object(5)\n",
      "memory usage: 512.8+ KB\n"
     ]
    }
   ],
   "source": [
    "df.info()"
   ]
  },
  {
   "cell_type": "code",
   "execution_count": 5,
   "metadata": {},
   "outputs": [
    {
     "data": {
      "text/plain": [
       "np.int64(0)"
      ]
     },
     "execution_count": 5,
     "metadata": {},
     "output_type": "execute_result"
    }
   ],
   "source": [
    "df['SalesItemId'].duplicated().sum()"
   ]
  },
  {
   "cell_type": "code",
   "execution_count": 6,
   "metadata": {},
   "outputs": [
    {
     "data": {
      "text/html": [
       "<div>\n",
       "<style scoped>\n",
       "    .dataframe tbody tr th:only-of-type {\n",
       "        vertical-align: middle;\n",
       "    }\n",
       "\n",
       "    .dataframe tbody tr th {\n",
       "        vertical-align: top;\n",
       "    }\n",
       "\n",
       "    .dataframe thead th {\n",
       "        text-align: right;\n",
       "    }\n",
       "</style>\n",
       "<table border=\"1\" class=\"dataframe\">\n",
       "  <thead>\n",
       "    <tr style=\"text-align: right;\">\n",
       "      <th></th>\n",
       "      <th>SalesItemId</th>\n",
       "      <th>SalesItemCode</th>\n",
       "      <th>SalesItemName</th>\n",
       "      <th>ActiveIngredientsName</th>\n",
       "      <th>Formularium</th>\n",
       "      <th>OrganizationId</th>\n",
       "    </tr>\n",
       "  </thead>\n",
       "  <tbody>\n",
       "    <tr>\n",
       "      <th>9261</th>\n",
       "      <td>10835</td>\n",
       "      <td>D10835</td>\n",
       "      <td>RIFAMPICIN 300MG CAP</td>\n",
       "      <td>RIFAMPICIN</td>\n",
       "      <td>BPJS</td>\n",
       "      <td>2,4,5,6,7,9,10,12,13,15,16,17,19,20,21,23,25,2...</td>\n",
       "    </tr>\n",
       "    <tr>\n",
       "      <th>792</th>\n",
       "      <td>2000000253405</td>\n",
       "      <td>MCD01115</td>\n",
       "      <td>ANTI WRINKLE 10GRAM CREAM (DR MUTTY)</td>\n",
       "      <td>NaN</td>\n",
       "      <td>NORMAL</td>\n",
       "      <td>19</td>\n",
       "    </tr>\n",
       "    <tr>\n",
       "      <th>6223</th>\n",
       "      <td>1000002919</td>\n",
       "      <td>D0000283</td>\n",
       "      <td>JS/ LIPOMED 20%-100ML INF</td>\n",
       "      <td>MEDIUM CHAIN TRIGLYCERIDES</td>\n",
       "      <td>BPJS</td>\n",
       "      <td>19</td>\n",
       "    </tr>\n",
       "    <tr>\n",
       "      <th>432</th>\n",
       "      <td>49000000276</td>\n",
       "      <td>AMD00222</td>\n",
       "      <td>am/ INTERVASK 5MG TAB</td>\n",
       "      <td>NaN</td>\n",
       "      <td>NORMAL</td>\n",
       "      <td>49</td>\n",
       "    </tr>\n",
       "    <tr>\n",
       "      <th>3807</th>\n",
       "      <td>1000006781</td>\n",
       "      <td>D0000448</td>\n",
       "      <td>in/ EFRISEL 10% 5ML EYE DROPS (CENDO)</td>\n",
       "      <td>PHENYLEPHRINE</td>\n",
       "      <td>INHEALTH</td>\n",
       "      <td>3</td>\n",
       "    </tr>\n",
       "    <tr>\n",
       "      <th>3471</th>\n",
       "      <td>100000000131435</td>\n",
       "      <td>LVD01713</td>\n",
       "      <td>in/ BACTESYN 1,5GRAM INJ</td>\n",
       "      <td>NaN</td>\n",
       "      <td>INHEALTH</td>\n",
       "      <td>2,3,4,5,6,15,19,20,22,27,34,42,48</td>\n",
       "    </tr>\n",
       "    <tr>\n",
       "      <th>10383</th>\n",
       "      <td>1000016057</td>\n",
       "      <td>D0000916</td>\n",
       "      <td>VACCINE INDOVAC 5ML INJ  (DINKES)</td>\n",
       "      <td>SARS-COV2 RBD (VACCINE COVID)</td>\n",
       "      <td>BPJS</td>\n",
       "      <td>2</td>\n",
       "    </tr>\n",
       "    <tr>\n",
       "      <th>10630</th>\n",
       "      <td>11017</td>\n",
       "      <td>D11017</td>\n",
       "      <td>VITAMIN A 20.000UNIT TAB</td>\n",
       "      <td>RETINOL (VITAMIN A)</td>\n",
       "      <td>BPJS</td>\n",
       "      <td>5,7,9,14,15,17,19,20,28,29,32,33,36,43,51</td>\n",
       "    </tr>\n",
       "    <tr>\n",
       "      <th>6085</th>\n",
       "      <td>17000000159</td>\n",
       "      <td>PLD00159</td>\n",
       "      <td>js/ INTRALIPID 100ML IV EMULSION FOR INF</td>\n",
       "      <td>LIPID</td>\n",
       "      <td>BPJS</td>\n",
       "      <td>17,29,32,37</td>\n",
       "    </tr>\n",
       "    <tr>\n",
       "      <th>403</th>\n",
       "      <td>49000000439</td>\n",
       "      <td>AMD00194</td>\n",
       "      <td>am/ HYPERRHO/BAYRHO D VIAL</td>\n",
       "      <td>NaN</td>\n",
       "      <td>NORMAL</td>\n",
       "      <td>49</td>\n",
       "    </tr>\n",
       "  </tbody>\n",
       "</table>\n",
       "</div>"
      ],
      "text/plain": [
       "           SalesItemId SalesItemCode  \\\n",
       "9261             10835        D10835   \n",
       "792      2000000253405      MCD01115   \n",
       "6223        1000002919      D0000283   \n",
       "432        49000000276      AMD00222   \n",
       "3807        1000006781      D0000448   \n",
       "3471   100000000131435      LVD01713   \n",
       "10383       1000016057      D0000916   \n",
       "10630            11017        D11017   \n",
       "6085       17000000159      PLD00159   \n",
       "403        49000000439      AMD00194   \n",
       "\n",
       "                                  SalesItemName  \\\n",
       "9261                       RIFAMPICIN 300MG CAP   \n",
       "792        ANTI WRINKLE 10GRAM CREAM (DR MUTTY)   \n",
       "6223                  JS/ LIPOMED 20%-100ML INF   \n",
       "432                       am/ INTERVASK 5MG TAB   \n",
       "3807      in/ EFRISEL 10% 5ML EYE DROPS (CENDO)   \n",
       "3471                   in/ BACTESYN 1,5GRAM INJ   \n",
       "10383         VACCINE INDOVAC 5ML INJ  (DINKES)   \n",
       "10630                  VITAMIN A 20.000UNIT TAB   \n",
       "6085   js/ INTRALIPID 100ML IV EMULSION FOR INF   \n",
       "403                  am/ HYPERRHO/BAYRHO D VIAL   \n",
       "\n",
       "                ActiveIngredientsName Formularium  \\\n",
       "9261                       RIFAMPICIN        BPJS   \n",
       "792                               NaN      NORMAL   \n",
       "6223       MEDIUM CHAIN TRIGLYCERIDES        BPJS   \n",
       "432                               NaN      NORMAL   \n",
       "3807                    PHENYLEPHRINE    INHEALTH   \n",
       "3471                              NaN    INHEALTH   \n",
       "10383   SARS-COV2 RBD (VACCINE COVID)        BPJS   \n",
       "10630             RETINOL (VITAMIN A)        BPJS   \n",
       "6085                            LIPID        BPJS   \n",
       "403                               NaN      NORMAL   \n",
       "\n",
       "                                          OrganizationId  \n",
       "9261   2,4,5,6,7,9,10,12,13,15,16,17,19,20,21,23,25,2...  \n",
       "792                                                   19  \n",
       "6223                                                  19  \n",
       "432                                                   49  \n",
       "3807                                                   3  \n",
       "3471                   2,3,4,5,6,15,19,20,22,27,34,42,48  \n",
       "10383                                                  2  \n",
       "10630          5,7,9,14,15,17,19,20,28,29,32,33,36,43,51  \n",
       "6085                                         17,29,32,37  \n",
       "403                                                   49  "
      ]
     },
     "execution_count": 6,
     "metadata": {},
     "output_type": "execute_result"
    }
   ],
   "source": [
    "df.sample(10)\n"
   ]
  },
  {
   "cell_type": "code",
   "execution_count": 7,
   "metadata": {},
   "outputs": [
    {
     "data": {
      "text/plain": [
       "(10937, 6)"
      ]
     },
     "execution_count": 7,
     "metadata": {},
     "output_type": "execute_result"
    }
   ],
   "source": [
    "df.shape\n"
   ]
  },
  {
   "cell_type": "code",
   "execution_count": 8,
   "metadata": {},
   "outputs": [
    {
     "data": {
      "text/plain": [
       "{'SalesItemId': 19000000062,\n",
       " 'SalesItemCode': 'MCD00062',\n",
       " 'SalesItemName': '2 MTM BODY LOTION (DR MUTTY)',\n",
       " 'ActiveIngredientsName': ' KOSMETIK',\n",
       " 'Formularium': 'NORMAL',\n",
       " 'OrganizationId': '19'}"
      ]
     },
     "execution_count": 8,
     "metadata": {},
     "output_type": "execute_result"
    }
   ],
   "source": [
    "sales_data = pd.read_csv(PATH, sep=';').to_dict(orient='records')\n",
    "sales_data[0]"
   ]
  },
  {
   "cell_type": "code",
   "execution_count": 9,
   "metadata": {},
   "outputs": [],
   "source": [
    "# Initiate OpenAI embeddings.\n",
    "embeddings = OpenAIEmbeddings(\n",
    "    model=\"text-embedding-3-small\", \n",
    ")\n",
    "\n",
    "url = \"http://localhost:6333\"\n",
    "collection_name = \"test_salesItem\"\n",
    "distance = Distance.COSINE\n",
    "dimension = 1536 \n"
   ]
  },
  {
   "cell_type": "code",
   "execution_count": 12,
   "metadata": {},
   "outputs": [
    {
     "name": "stdout",
     "output_type": "stream",
     "text": [
      "collections=[]\n"
     ]
    }
   ],
   "source": [
    "# Initiate client.\n",
    "client = QdrantClient(\"localhost\", port=6333)\n",
    "\n",
    "# Show collections.\n",
    "collections = client.get_collections()\n",
    "print(collections)\n"
   ]
  },
  {
   "cell_type": "code",
   "execution_count": 82,
   "metadata": {},
   "outputs": [
    {
     "name": "stdout",
     "output_type": "stream",
     "text": [
      "status=<CollectionStatus.GREEN: 'green'> optimizer_status=<OptimizersStatusOneOf.OK: 'ok'> vectors_count=None indexed_vectors_count=0 points_count=10 segments_count=4 config=CollectionConfig(params=CollectionParams(vectors=VectorParams(size=1536, distance=<Distance.COSINE: 'Cosine'>, hnsw_config=None, quantization_config=None, on_disk=None, datatype=None, multivector_config=None), shard_number=1, sharding_method=None, replication_factor=1, write_consistency_factor=1, read_fan_out_factor=None, on_disk_payload=True, sparse_vectors=None), hnsw_config=HnswConfig(m=16, ef_construct=100, full_scan_threshold=10000, max_indexing_threads=0, on_disk=False, payload_m=None), optimizer_config=OptimizersConfig(deleted_threshold=0.2, vacuum_min_vector_number=1000, default_segment_number=0, max_segment_size=None, memmap_threshold=None, indexing_threshold=20000, flush_interval_sec=5, max_optimization_threads=None), wal_config=WalConfig(wal_capacity_mb=32, wal_segments_ahead=0), quantization_config=None, strict_mode_config=StrictModeConfig(enabled=False, max_query_limit=None, max_timeout=None, unindexed_filtering_retrieve=None, unindexed_filtering_update=None, search_max_hnsw_ef=None, search_allow_exact=None, search_max_oversampling=None, upsert_max_batchsize=None, max_collection_vector_size_bytes=None, read_rate_limit=None, write_rate_limit=None, max_collection_payload_size_bytes=None, filter_max_conditions=None, condition_max_size=None)) payload_schema={}\n"
     ]
    }
   ],
   "source": [
    "# Show collection details.\n",
    "collection_info = client.get_collection(collection_name=\"test_salesItem\")\n",
    "print(collection_info)"
   ]
  },
  {
   "cell_type": "code",
   "execution_count": null,
   "metadata": {},
   "outputs": [
    {
     "data": {
      "text/plain": [
       "True"
      ]
     },
     "execution_count": 11,
     "metadata": {},
     "output_type": "execute_result"
    }
   ],
   "source": [
    "# Delete collection.\n",
    "# client.delete_collection(collection_name=\"test_salesItem\")\n"
   ]
  },
  {
   "cell_type": "code",
   "execution_count": null,
   "metadata": {},
   "outputs": [],
   "source": [
    "def moveEmbedding(sales_data, batch_size=1000):\n",
    "    \"\"\"\n",
    "    Load sales items data from a list of dictionaries and upsert embeddings into Qdrant,\n",
    "    using batch processing to speed up embedding generation.\n",
    "    \"\"\"\n",
    "    # Initialize Qdrant client.\n",
    "    client = qdrant_client.QdrantClient(url=url)\n",
    "    \n",
    "    # Create collection if it doesn't exist.\n",
    "    if not client.collection_exists(collection_name=collection_name):\n",
    "        client.create_collection(\n",
    "            collection_name=collection_name,\n",
    "            vectors_config=VectorParams(size=dimension, distance=distance),\n",
    "        )\n",
    "    \n",
    "    total_batches = (len(sales_data) - 1) // batch_size + 1\n",
    "    for batch_num in range(total_batches):\n",
    "        start = batch_num * batch_size\n",
    "        end = start + batch_size\n",
    "        batch_sales_data = sales_data[start:end]\n",
    "        \n",
    "        texts = []\n",
    "        ids = []\n",
    "        payloads = []\n",
    "        \n",
    "        # Build texts, IDs, and payloads for the current batch.\n",
    "        for item in batch_sales_data:\n",
    "            text = (\n",
    "                \"Sales Item Name: \" + str(item['SalesItemName']) + \"\\n\" +\n",
    "                \"Active Ingredients: \" + str(item['ActiveIngredientsName']) + \"\\n\" +\n",
    "                \"Formularium: \" + str(item['Formularium'])\n",
    "            )\n",
    "            texts.append(text)\n",
    "            ids.append(item['SalesItemId'])\n",
    "            payloads.append({\n",
    "                \"page_content\": text,\n",
    "                \"metadata\": {\n",
    "                    \"SalesItemName\": item['SalesItemName'],\n",
    "                    \"SalesItemCode\": item['SalesItemCode'],\n",
    "                    \"ActiveIngredientsName\": item['ActiveIngredientsName'],\n",
    "                    \"Formularium\": item['Formularium'],\n",
    "                    \"OrganizationId\": item['OrganizationId']\n",
    "                }\n",
    "            })\n",
    "        \n",
    "        # Batch embed the texts using the embed_documents method.\n",
    "        batch_embeddings = embeddings.embed_documents(texts)\n",
    "        \n",
    "        # Prepare points for the current batch.\n",
    "        points = []\n",
    "        for j, emb in enumerate(batch_embeddings):\n",
    "            points.append(\n",
    "                PointStruct(\n",
    "                    id=ids[j],\n",
    "                    vector=emb,\n",
    "                    payload=payloads[j]\n",
    "                )\n",
    "            )\n",
    "        \n",
    "        # Upsert the current batch of points into Qdrant.\n",
    "        client.upsert(\n",
    "            collection_name=collection_name,\n",
    "            points=points\n",
    "        )\n",
    "        print(f\"Processed batch {batch_num+1}/{total_batches}\")\n",
    "    \n",
    "    print(f\"Added: {len(sales_data)} Sales Items\")\n"
   ]
  },
  {
   "cell_type": "markdown",
   "metadata": {},
   "source": [
    "Batch embedding = 1m 8.8s"
   ]
  },
  {
   "cell_type": "code",
   "execution_count": 14,
   "metadata": {},
   "outputs": [
    {
     "name": "stdout",
     "output_type": "stream",
     "text": [
      "Processed batch 1/11\n",
      "Processed batch 2/11\n",
      "Processed batch 3/11\n",
      "Processed batch 4/11\n",
      "Processed batch 5/11\n",
      "Processed batch 6/11\n",
      "Processed batch 7/11\n",
      "Processed batch 8/11\n",
      "Processed batch 9/11\n",
      "Processed batch 10/11\n",
      "Processed batch 11/11\n",
      "Added: 10937 Sales Items\n"
     ]
    }
   ],
   "source": [
    "moveEmbedding(sales_data)"
   ]
  },
  {
   "cell_type": "code",
   "execution_count": 15,
   "metadata": {},
   "outputs": [
    {
     "name": "stderr",
     "output_type": "stream",
     "text": [
      "/tmp/ipykernel_2316/2148830083.py:4: LangChainDeprecationWarning: The class `Qdrant` was deprecated in LangChain 0.1.2 and will be removed in 0.5.0. Use :class:`~QdrantVectorStore` instead.\n",
      "  qdrant = Qdrant(\n"
     ]
    }
   ],
   "source": [
    "client = QdrantClient(\n",
    "    url=url,\n",
    ")\n",
    "qdrant = Qdrant(\n",
    "    client,\n",
    "    embeddings=embeddings,\n",
    "    collection_name=collection_name,\n",
    "    distance_strategy=distance,\n",
    ")\n"
   ]
  },
  {
   "cell_type": "code",
   "execution_count": 16,
   "metadata": {},
   "outputs": [
    {
     "data": {
      "text/plain": [
       "[(Document(metadata={'SalesItemName': '2 MTM BODY LOTION (DR MUTTY)', 'SalesItemCode': 'MCD00062', 'ActiveIngredientsName': ' KOSMETIK', 'Formularium': 'NORMAL', 'OrganizationId': '19', '_id': 19000000062, '_collection_name': 'test_salesItem'}, page_content='Sales Item Name: 2 MTM BODY LOTION (DR MUTTY)\\nActive Ingredients:  KOSMETIK\\nFormularium: NORMAL'),\n",
       "  0.8227804)]"
      ]
     },
     "execution_count": 16,
     "metadata": {},
     "output_type": "execute_result"
    }
   ],
   "source": [
    "qdrant.similarity_search_with_score(\n",
    "    query=\"2 MTM BODY LOTION (DR MUTTY)\",\n",
    "    k=1\n",
    ")\n"
   ]
  },
  {
   "cell_type": "code",
   "execution_count": 17,
   "metadata": {},
   "outputs": [
    {
     "name": "stdout",
     "output_type": "stream",
     "text": [
      "{'SalesItemName': '2 MTM BODY LOTION (DR MUTTY)', 'SalesItemCode': 'MCD00062', 'ActiveIngredientsName': ' KOSMETIK', 'Formularium': 'NORMAL', 'OrganizationId': '19', '_id': 19000000062, '_collection_name': 'test_salesItem'}\n"
     ]
    }
   ],
   "source": [
    "doc = qdrant.similarity_search_with_score('2 MTM BODY LOTION (DR MUTTY)', score_threshold=0.5, k=1)\n",
    "for d in doc:\n",
    "    print(d[0].metadata)"
   ]
  },
  {
   "cell_type": "code",
   "execution_count": 49,
   "metadata": {},
   "outputs": [
    {
     "name": "stdout",
     "output_type": "stream",
     "text": [
      "{'query': '2 MTM BODY LOTION (DR MUTTY)', 'expected': '2 MTM BODY LOTION (DR MUTTY)'}\n"
     ]
    }
   ],
   "source": [
    "test_list = [{'query': x['SalesItemName'], 'expected': x['SalesItemName']} for x in sales_data[:10]]\n",
    "print(test_list[0])"
   ]
  },
  {
   "cell_type": "code",
   "execution_count": 50,
   "metadata": {},
   "outputs": [],
   "source": [
    "test_list = test_list + [\n",
    "    {\n",
    "        \"query\": \"vaksin campak dinkes\",\n",
    "        \"expected\": \"VACCINE CAMPAK 4ML INJ (DINKES)\"\n",
    "    },\n",
    "    {\n",
    "        \"query\": \"obh batuk berdahak\",\n",
    "        \"expected\": \"OBH BATUK BERDAHAK 100ML SYR\"\n",
    "    },\n",
    "    {\n",
    "        \"query\": \"detol cair\",\n",
    "        \"expected\": \"DETTOL CAIR 100ML\"\n",
    "    },\n",
    "    {\n",
    "        \"query\": \"antiseptic\",\n",
    "        \"expected\": \"SABUN ANTISEPTIC A (DR.MUTTY)\"\n",
    "    },\n",
    "    {\n",
    "        \"query\": \"sirup batuk pilek\",\n",
    "        \"expected\": \"TRIAMINIC BATUK & PILEK 60ML SYR\"\n",
    "    },\n",
    "    {\n",
    "        \"query\": \"test\",\n",
    "        \"expected\": \"test\"\n",
    "    }\n",
    "]\n"
   ]
  },
  {
   "cell_type": "code",
   "execution_count": null,
   "metadata": {},
   "outputs": [],
   "source": [
    "def testing(qdrant, q, expected):\n",
    "    doc = qdrant.similarity_search_with_score(q, score_threshold=0.1, k=10)\n",
    "    i = 0\n",
    "    for d in doc:\n",
    "        if(d[0].metadata[\"SalesItemName\"] == expected):\n",
    "            return [ True, d]\n",
    "        i += 1\n",
    "    if len(doc) == 0:\n",
    "        return [False, \"No result\"]\n",
    "    return [False, doc[0]]\n"
   ]
  },
  {
   "cell_type": "code",
   "execution_count": 52,
   "metadata": {},
   "outputs": [
    {
     "data": {
      "text/html": [
       "<div>\n",
       "<style scoped>\n",
       "    .dataframe tbody tr th:only-of-type {\n",
       "        vertical-align: middle;\n",
       "    }\n",
       "\n",
       "    .dataframe tbody tr th {\n",
       "        vertical-align: top;\n",
       "    }\n",
       "\n",
       "    .dataframe thead th {\n",
       "        text-align: right;\n",
       "    }\n",
       "</style>\n",
       "<table border=\"1\" class=\"dataframe\">\n",
       "  <thead>\n",
       "    <tr style=\"text-align: right;\">\n",
       "      <th></th>\n",
       "      <th>query</th>\n",
       "      <th>result</th>\n",
       "      <th>score</th>\n",
       "    </tr>\n",
       "  </thead>\n",
       "  <tbody>\n",
       "    <tr>\n",
       "      <th>0</th>\n",
       "      <td>test</td>\n",
       "      <td>AKURAT TESTPACK PCS -N/A</td>\n",
       "      <td>0.282302</td>\n",
       "    </tr>\n",
       "  </tbody>\n",
       "</table>\n",
       "</div>"
      ],
      "text/plain": [
       "  query                    result     score\n",
       "0  test  AKURAT TESTPACK PCS -N/A  0.282302"
      ]
     },
     "metadata": {},
     "output_type": "display_data"
    }
   ],
   "source": [
    "# With question only.\n",
    "results = []\n",
    "for t in test_list:\n",
    "    [status, data] = testing(qdrant, t[\"query\"], t[\"expected\"])\n",
    "    if(status == False):\n",
    "        _data = {\n",
    "            \"query\": t[\"query\"],\n",
    "            \"result\": data[0].metadata['SalesItemName'] if data != \"No result\" else \"No result\",\n",
    "            \"score\": data[1] if data != \"No result\" else \"No result\"\n",
    "        }\n",
    "        results.append(_data)\n",
    "with pd.option_context('display.max_rows', None, 'display.max_columns', None):\n",
    "    df = pd.DataFrame(data=results)\n",
    "    display(df)\n",
    "    "
   ]
  },
  {
   "cell_type": "code",
   "execution_count": null,
   "metadata": {},
   "outputs": [],
   "source": []
  }
 ],
 "metadata": {
  "kernelspec": {
   "display_name": "venv",
   "language": "python",
   "name": "python3"
  },
  "language_info": {
   "codemirror_mode": {
    "name": "ipython",
    "version": 3
   },
   "file_extension": ".py",
   "mimetype": "text/x-python",
   "name": "python",
   "nbconvert_exporter": "python",
   "pygments_lexer": "ipython3",
   "version": "3.12.1"
  }
 },
 "nbformat": 4,
 "nbformat_minor": 2
}
